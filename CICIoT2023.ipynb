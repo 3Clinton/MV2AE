{
 "cells": [
  {
   "cell_type": "markdown",
   "id": "2235268e-0921-49a7-bb63-2e231afe208b",
   "metadata": {},
   "source": [
    "# Importing libraries"
   ]
  },
  {
   "cell_type": "code",
   "execution_count": 1,
   "id": "b22c30fe-a2cf-4af8-bac0-4c1caf5c8b5d",
   "metadata": {},
   "outputs": [],
   "source": [
    "import numpy as np\n",
    "import pandas as pd\n",
    "from sklearn import preprocessing\n",
    "from sklearn.preprocessing import MinMaxScaler\n",
    "from sklearn.model_selection import train_test_split\n",
    "from sklearn.preprocessing import OneHotEncoder\n",
    "from keras.utils import to_categorical\n",
    "import keras"
   ]
  },
  {
   "cell_type": "markdown",
   "id": "3b7acbc3-019f-4a4e-ab3a-bc6c122475d3",
   "metadata": {},
   "source": [
    "# Dataset compiling for binary"
   ]
  },
  {
   "cell_type": "code",
   "execution_count": null,
   "id": "fe5f94bc-db40-40cc-83dc-7c9a03a83cf5",
   "metadata": {},
   "outputs": [],
   "source": [
    "df= pd.read_csv(\"CICIoT2023.csv\",low_memory=False)"
   ]
  },
  {
   "cell_type": "code",
   "execution_count": null,
   "id": "893fa113-23a3-4961-91d1-3d74fe7951bb",
   "metadata": {},
   "outputs": [],
   "source": [
    "attack = []\n",
    "for label in df['label']:\n",
    "    if label == 'BenignTraffic':\n",
    "        attack.append(0)  # Assign 0 for \"BenignTraffic\"\n",
    "    else:\n",
    "        attack.append(1)  # Assign 1 for any other traffic type\n",
    "\n",
    "# Create a new column 'traffic_type' and store the results\n",
    "df['attack'] = attack\n",
    "\n"
   ]
  },
  {
   "cell_type": "code",
   "execution_count": null,
   "id": "1b2a61fc-679c-4035-9912-134e49b89c84",
   "metadata": {},
   "outputs": [],
   "source": [
    "data= df.sample(frac=1).reset_index(drop=True)"
   ]
  },
  {
   "cell_type": "code",
   "execution_count": null,
   "id": "ea830df8-1012-49d4-9d74-c3a6589be51a",
   "metadata": {},
   "outputs": [],
   "source": [
    "data= data.drop(columns=['label'])"
   ]
  },
  {
   "cell_type": "code",
   "execution_count": null,
   "id": "bbd63efe-36cb-4814-b740-a48c4ec93216",
   "metadata": {},
   "outputs": [],
   "source": [
    "data.to_csv('CICIoT2023_binary.csv', index=False)"
   ]
  },
  {
   "cell_type": "markdown",
   "id": "e4d531f8-caa5-4bca-95de-e1618301623e",
   "metadata": {},
   "source": [
    "# Loading The Final dataset"
   ]
  },
  {
   "cell_type": "code",
   "execution_count": 2,
   "id": "20e67fe5-4f68-4084-b03b-28c678017ed3",
   "metadata": {},
   "outputs": [],
   "source": [
    "dataset= pd.read_csv(\"CICIoT2023_binary.csv\",low_memory=False)"
   ]
  },
  {
   "cell_type": "code",
   "execution_count": 5,
   "id": "c78c9876-b349-4721-a3c7-431d8d695645",
   "metadata": {},
   "outputs": [
    {
     "name": "stdout",
     "output_type": "stream",
     "text": [
      "<class 'pandas.core.frame.DataFrame'>\n",
      "RangeIndex: 46686579 entries, 0 to 46686578\n",
      "Data columns (total 47 columns):\n",
      " #   Column           Dtype  \n",
      "---  ------           -----  \n",
      " 0   flow_duration    float64\n",
      " 1   Header_Length    float64\n",
      " 2   Protocol Type    float64\n",
      " 3   Duration         float64\n",
      " 4   Rate             float64\n",
      " 5   Srate            float64\n",
      " 6   Drate            float64\n",
      " 7   fin_flag_number  float64\n",
      " 8   syn_flag_number  float64\n",
      " 9   rst_flag_number  float64\n",
      " 10  psh_flag_number  float64\n",
      " 11  ack_flag_number  float64\n",
      " 12  ece_flag_number  float64\n",
      " 13  cwr_flag_number  float64\n",
      " 14  ack_count        float64\n",
      " 15  syn_count        float64\n",
      " 16  fin_count        float64\n",
      " 17  urg_count        float64\n",
      " 18  rst_count        float64\n",
      " 19  HTTP             float64\n",
      " 20  HTTPS            float64\n",
      " 21  DNS              float64\n",
      " 22  Telnet           float64\n",
      " 23  SMTP             float64\n",
      " 24  SSH              float64\n",
      " 25  IRC              float64\n",
      " 26  TCP              float64\n",
      " 27  UDP              float64\n",
      " 28  DHCP             float64\n",
      " 29  ARP              float64\n",
      " 30  ICMP             float64\n",
      " 31  IPv              float64\n",
      " 32  LLC              float64\n",
      " 33  Tot sum          float64\n",
      " 34  Min              float64\n",
      " 35  Max              float64\n",
      " 36  AVG              float64\n",
      " 37  Std              float64\n",
      " 38  Tot size         float64\n",
      " 39  IAT              float64\n",
      " 40  Number           float64\n",
      " 41  Magnitue         float64\n",
      " 42  Radius           float64\n",
      " 43  Covariance       float64\n",
      " 44  Variance         float64\n",
      " 45  Weight           float64\n",
      " 46  attack           int64  \n",
      "dtypes: float64(46), int64(1)\n",
      "memory usage: 16.3 GB\n"
     ]
    }
   ],
   "source": [
    "dataset.info()"
   ]
  },
  {
   "cell_type": "markdown",
   "id": "700f199e-f46b-4955-aeb0-aadf3a33567b",
   "metadata": {},
   "source": [
    "# Data Preprocessing"
   ]
  },
  {
   "cell_type": "code",
   "execution_count": 9,
   "id": "eec5b96d-91c0-4d42-8ae6-46afaca6bc53",
   "metadata": {},
   "outputs": [
    {
     "data": {
      "text/plain": [
       "flow_duration      0\n",
       "Header_Length      0\n",
       "Protocol Type      0\n",
       "Duration           0\n",
       "Rate               0\n",
       "Srate              0\n",
       "Drate              0\n",
       "fin_flag_number    0\n",
       "syn_flag_number    0\n",
       "rst_flag_number    0\n",
       "psh_flag_number    0\n",
       "ack_flag_number    0\n",
       "ece_flag_number    0\n",
       "cwr_flag_number    0\n",
       "ack_count          0\n",
       "syn_count          0\n",
       "fin_count          0\n",
       "urg_count          0\n",
       "rst_count          0\n",
       "HTTP               0\n",
       "HTTPS              0\n",
       "DNS                0\n",
       "Telnet             0\n",
       "SMTP               0\n",
       "SSH                0\n",
       "IRC                0\n",
       "TCP                0\n",
       "UDP                0\n",
       "DHCP               0\n",
       "ARP                0\n",
       "ICMP               0\n",
       "IPv                0\n",
       "LLC                0\n",
       "Tot sum            0\n",
       "Min                0\n",
       "Max                0\n",
       "AVG                0\n",
       "Std                0\n",
       "Tot size           0\n",
       "IAT                0\n",
       "Number             0\n",
       "Magnitue           0\n",
       "Radius             0\n",
       "Covariance         0\n",
       "Variance           0\n",
       "Weight             0\n",
       "attack             0\n",
       "dtype: int64"
      ]
     },
     "execution_count": 9,
     "metadata": {},
     "output_type": "execute_result"
    }
   ],
   "source": [
    "dataset.isna().sum()"
   ]
  },
  {
   "cell_type": "code",
   "execution_count": 7,
   "id": "779d9e28-8754-4573-af4d-11c343d7dabf",
   "metadata": {},
   "outputs": [
    {
     "data": {
      "text/plain": [
       "0"
      ]
     },
     "execution_count": 7,
     "metadata": {},
     "output_type": "execute_result"
    }
   ],
   "source": [
    "dataset.drop_duplicates(subset=None, keep=\"first\", inplace=True)\n",
    "dataset.duplicated().sum()\n"
   ]
  },
  {
   "cell_type": "code",
   "execution_count": 10,
   "id": "95294355-c64b-4744-8348-50006c5831dd",
   "metadata": {},
   "outputs": [
    {
     "data": {
      "text/plain": [
       "attack\n",
       "1    45588384\n",
       "0     1098195\n",
       "Name: count, dtype: int64"
      ]
     },
     "execution_count": 10,
     "metadata": {},
     "output_type": "execute_result"
    }
   ],
   "source": [
    "dataset['attack'].value_counts()"
   ]
  },
  {
   "cell_type": "code",
   "execution_count": null,
   "id": "97c2d855-c809-4e54-8ecc-26c94ec29dcf",
   "metadata": {},
   "outputs": [],
   "source": [
    "def encod(data):\n",
    "  n=data.shape[1]\n",
    "  from sklearn import preprocessing\n",
    "  label_encoder = preprocessing.LabelEncoder()\n",
    "  for i in range(n):\n",
    "      if data.iloc[:,i].dtype == 'object':\n",
    "        data.iloc[:,i]= label_encoder.fit_transform(data.iloc[:,i])\n",
    "  return data"
   ]
  },
  {
   "cell_type": "code",
   "execution_count": null,
   "id": "4ebd4274-7188-4433-9897-83de50a855f0",
   "metadata": {},
   "outputs": [],
   "source": [
    "# Label encoding\n",
    "dataset=encod(dataset)\n"
   ]
  },
  {
   "cell_type": "code",
   "execution_count": 3,
   "id": "103b9cc4-3f17-430d-af9e-596ac02b6220",
   "metadata": {},
   "outputs": [
    {
     "data": {
      "text/plain": [
       "array([1, 0], dtype=int64)"
      ]
     },
     "execution_count": 3,
     "metadata": {},
     "output_type": "execute_result"
    }
   ],
   "source": [
    "dataset.attack.unique()"
   ]
  },
  {
   "cell_type": "code",
   "execution_count": 4,
   "id": "4d50c96f-37e6-4e7e-9010-a584c8aa2a47",
   "metadata": {},
   "outputs": [],
   "source": [
    "X=dataset.drop(['attack'],axis=1)\n",
    "y=dataset['attack']\n",
    "dataset=0"
   ]
  },
  {
   "cell_type": "code",
   "execution_count": 5,
   "id": "b2d678e5-0733-4ea4-83af-842dfc4c4148",
   "metadata": {},
   "outputs": [],
   "source": [
    "X_train, X_test, y_train, y_test = train_test_split(X, y, test_size=0.2, random_state=42)"
   ]
  },
  {
   "cell_type": "code",
   "execution_count": 6,
   "id": "728e7f00-a7bb-4d13-a6c0-46d490695f20",
   "metadata": {},
   "outputs": [],
   "source": [
    "X=0\n",
    "y=0"
   ]
  },
  {
   "cell_type": "code",
   "execution_count": 7,
   "id": "4a770cf2-3e42-4032-97e1-7db6d63be4bf",
   "metadata": {},
   "outputs": [],
   "source": [
    "from sklearn.preprocessing import MinMaxScaler\n",
    "scaler = MinMaxScaler()\n",
    "X_train = scaler.fit_transform(X_train)\n",
    "X_test = scaler.transform(X_test)\n"
   ]
  },
  {
   "cell_type": "code",
   "execution_count": 10,
   "id": "018f95a5-c68c-4326-9817-468689abbd08",
   "metadata": {},
   "outputs": [
    {
     "data": {
      "text/plain": [
       "(37349263, 46)"
      ]
     },
     "execution_count": 10,
     "metadata": {},
     "output_type": "execute_result"
    }
   ],
   "source": [
    "X_train.shape"
   ]
  },
  {
   "cell_type": "markdown",
   "id": "16cbd1d2-a1b2-4c0d-95cd-fa64862e4a95",
   "metadata": {},
   "source": [
    "# Vanilla Autoencoder Model"
   ]
  },
  {
   "cell_type": "code",
   "execution_count": 8,
   "id": "4f27ed38-9c76-4f53-9f69-e3a51bb815d7",
   "metadata": {},
   "outputs": [],
   "source": [
    "\n",
    "import os\n",
    "os.environ[\"CUDA_VISIBLE_DEVICES\"] = \"-1\"  # Disable GPU\n",
    "\n",
    "\n",
    "\n",
    "# Now any TensorFlow operation will run on the CPU\n",
    "import tensorflow as tf\n",
    "\n",
    "gpus = tf.config.experimental.list_physical_devices('GPU')\n",
    "if gpus:\n",
    "    try:\n",
    "        for gpu in gpus:\n",
    "            tf.config.experimental.set_memory_growth(gpu, True)\n",
    "    except RuntimeError as e:\n",
    "        print(e)\n",
    "\n",
    "\n",
    "\n",
    "from keras.layers import Dense, Dropout, Activation"
   ]
  },
  {
   "cell_type": "code",
   "execution_count": 26,
   "id": "3c014d51-6952-4816-b46c-141d4c2cad03",
   "metadata": {},
   "outputs": [],
   "source": [
    "input_dim = X_train.shape[1]"
   ]
  },
  {
   "cell_type": "code",
   "execution_count": 13,
   "id": "d2b50f6e-38c6-4b43-9d3d-113a332e0d94",
   "metadata": {},
   "outputs": [],
   "source": [
    "input_vanilla = tf.keras.Input(shape=(input_dim,), name='input_vanilla')\n",
    "encoded_vanilla = Dense(128, activation='relu', name='encode1_vanilla')(input_vanilla)\n",
    "encoded_vanilla = Dense(64, activation='relu', name='encode2_vanilla')(encoded_vanilla)\n",
    "encoded_vanilla = Dense(32, activation='relu', name='latent_vanilla')(encoded_vanilla)\n",
    "\n",
    "decoded_vanilla = Dense(64, activation='relu', name='decode1_vanilla')(encoded_vanilla)\n",
    "decoded_vanilla = Dense(128, activation='relu', name='decode2_vanilla')(decoded_vanilla)\n",
    "output_vanilla = Dense(input_dim, activation='sigmoid', name='output_vanilla')(decoded_vanilla)\n",
    "\n"
   ]
  },
  {
   "cell_type": "code",
   "execution_count": 14,
   "id": "8a75004e-4c65-4a9a-a87e-43014681f4d0",
   "metadata": {},
   "outputs": [
    {
     "name": "stdout",
     "output_type": "stream",
     "text": [
      "Model: \"model\"\n",
      "_________________________________________________________________\n",
      " Layer (type)                Output Shape              Param #   \n",
      "=================================================================\n",
      " input_vanilla (InputLayer)  [(None, 46)]              0         \n",
      "                                                                 \n",
      " encode1_vanilla (Dense)     (None, 128)               6016      \n",
      "                                                                 \n",
      " encode2_vanilla (Dense)     (None, 64)                8256      \n",
      "                                                                 \n",
      " latent_vanilla (Dense)      (None, 32)                2080      \n",
      "                                                                 \n",
      " decode1_vanilla (Dense)     (None, 64)                2112      \n",
      "                                                                 \n",
      " decode2_vanilla (Dense)     (None, 128)               8320      \n",
      "                                                                 \n",
      " output_vanilla (Dense)      (None, 46)                5934      \n",
      "                                                                 \n",
      "=================================================================\n",
      "Total params: 32,718\n",
      "Trainable params: 32,718\n",
      "Non-trainable params: 0\n",
      "_________________________________________________________________\n"
     ]
    }
   ],
   "source": [
    "vanilla = tf.keras.Model(input_vanilla, output_vanilla)\n",
    "\n",
    "vanilla.summary()\n"
   ]
  },
  {
   "cell_type": "code",
   "execution_count": 15,
   "id": "0543d3c6-28de-4697-bb75-9fbc6535faaf",
   "metadata": {},
   "outputs": [],
   "source": [
    "vanilla.compile(optimizer='adam', loss='mean_squared_error')"
   ]
  },
  {
   "cell_type": "code",
   "execution_count": 16,
   "id": "b263f8dd-a474-421b-a490-d2d9ea47b627",
   "metadata": {
    "scrolled": true
   },
   "outputs": [
    {
     "name": "stdout",
     "output_type": "stream",
     "text": [
      "Epoch 1/100\n",
      "1167165/1167165 [==============================] - 3795s 3ms/step - loss: 5.6386e-05\n",
      "Epoch 2/100\n",
      "1167165/1167165 [==============================] - 3928s 3ms/step - loss: 2.4193e-05\n",
      "Epoch 3/100\n",
      "1167165/1167165 [==============================] - 3980s 3ms/step - loss: 2.4356e-05\n",
      "Epoch 4/100\n",
      "1167165/1167165 [==============================] - 4024s 3ms/step - loss: 2.7466e-05\n",
      "Epoch 5/100\n",
      "1167165/1167165 [==============================] - 4045s 3ms/step - loss: 3.5963e-05\n",
      "Epoch 6/100\n",
      "1167165/1167165 [==============================] - 4011s 3ms/step - loss: 2.7796e-05\n",
      "Epoch 7/100\n",
      "1167165/1167165 [==============================] - 4046s 3ms/step - loss: 2.6562e-05\n",
      "Epoch 8/100\n",
      "1167165/1167165 [==============================] - 4062s 3ms/step - loss: 6.6699e-05\n",
      "Number of epochs run: 8\n"
     ]
    }
   ],
   "source": [
    "#EarlyStopping callback\n",
    "early_stopping_callback= keras.callbacks.EarlyStopping(monitor='loss',patience=6,baseline=None,restore_best_weights=True)\n",
    "\n",
    "# model_checkpoint_callback\n",
    "checkpoint_filepath = 'vanillamodel_CICIoT2023.keras'\n",
    "model_checkpoint_callback = keras.callbacks.ModelCheckpoint(filepath=checkpoint_filepath,monitor='loss',mode='min',save_best_only=True)\n",
    "\n",
    "callbacks = [early_stopping_callback, model_checkpoint_callback]\n",
    "#train with both callbacks\n",
    "history=vanilla.fit(X_train, X_train,epochs=100,batch_size=32, callbacks=[callbacks],verbose=1)\n",
    "\n",
    "print(\"Number of epochs run:\", len(history.history['loss']))\n",
    "\n"
   ]
  },
  {
   "cell_type": "code",
   "execution_count": 17,
   "id": "a734d41c-89e8-4f57-9a47-66a2572b5676",
   "metadata": {},
   "outputs": [
    {
     "name": "stdout",
     "output_type": "stream",
     "text": [
      "291792/291792 [==============================] - 381s 1ms/step - loss: 2.2817e-05\n"
     ]
    },
    {
     "data": {
      "text/plain": [
       "2.28169810725376e-05"
      ]
     },
     "execution_count": 17,
     "metadata": {},
     "output_type": "execute_result"
    }
   ],
   "source": [
    "vanilla.evaluate(X_test,X_test)"
   ]
  },
  {
   "cell_type": "code",
   "execution_count": 18,
   "id": "724e8d4b-0c7e-4b1d-89e4-2ca0ce44e5d7",
   "metadata": {},
   "outputs": [
    {
     "name": "stdout",
     "output_type": "stream",
     "text": [
      "Model: \"model\"\n",
      "_________________________________________________________________\n",
      " Layer (type)                Output Shape              Param #   \n",
      "=================================================================\n",
      " input_vanilla (InputLayer)  [(None, 46)]              0         \n",
      "                                                                 \n",
      " encode1_vanilla (Dense)     (None, 128)               6016      \n",
      "                                                                 \n",
      " encode2_vanilla (Dense)     (None, 64)                8256      \n",
      "                                                                 \n",
      " latent_vanilla (Dense)      (None, 32)                2080      \n",
      "                                                                 \n",
      " decode1_vanilla (Dense)     (None, 64)                2112      \n",
      "                                                                 \n",
      " decode2_vanilla (Dense)     (None, 128)               8320      \n",
      "                                                                 \n",
      " output_vanilla (Dense)      (None, 46)                5934      \n",
      "                                                                 \n",
      "=================================================================\n",
      "Total params: 32,718\n",
      "Trainable params: 0\n",
      "Non-trainable params: 32,718\n",
      "_________________________________________________________________\n"
     ]
    }
   ],
   "source": [
    "for layer in vanilla.layers:\n",
    "    layer.trainable =False\n",
    "\n",
    "vanilla.summary()"
   ]
  },
  {
   "cell_type": "markdown",
   "id": "b36d069b-9b8c-407d-a6cc-ab054bdf2623",
   "metadata": {},
   "source": [
    "# Variational Autoencoder Model"
   ]
  },
  {
   "cell_type": "code",
   "execution_count": 27,
   "id": "60e3de29-0368-4d73-8c1b-fea68c44e1ad",
   "metadata": {},
   "outputs": [],
   "source": [
    "from tensorflow.keras import backend as K\n",
    "from tensorflow.keras.layers import Lambda, Concatenate\n",
    "from tensorflow.keras.losses import mse\n",
    "\n",
    "from keras import layers"
   ]
  },
  {
   "cell_type": "code",
   "execution_count": 28,
   "id": "c63a5243-f4af-405a-8f52-5994b70807d7",
   "metadata": {},
   "outputs": [],
   "source": [
    "class Sampling(layers.Layer):\n",
    "\t\"\"\"Uses (mean, log_var) to sample z, the vector encoding a digit.\"\"\"\n",
    "\n",
    "\tdef call(self, inputs):\n",
    "\t\tmean, log_var = inputs\n",
    "\t\tbatch = tf.shape(mean)[0]\n",
    "\t\tdim = tf.shape(mean)[1]\n",
    "\t\tepsilon = tf.random.normal(shape=(batch, dim))\n",
    "\t\treturn mean + tf.exp(0.5 * log_var) * epsilon\n"
   ]
  },
  {
   "cell_type": "code",
   "execution_count": 29,
   "id": "b07c4cca-936d-4037-9897-991611670f40",
   "metadata": {},
   "outputs": [
    {
     "name": "stdout",
     "output_type": "stream",
     "text": [
      "Model: \"encoder\"\n",
      "__________________________________________________________________________________________________\n",
      " Layer (type)                   Output Shape         Param #     Connected to                     \n",
      "==================================================================================================\n",
      " encoder_input (InputLayer)     [(None, 46)]         0           []                               \n",
      "                                                                                                  \n",
      " encoder1 (Dense)               (None, 128)          6016        ['encoder_input[0][0]']          \n",
      "                                                                                                  \n",
      " enocder2 (Dense)               (None, 64)           8256        ['encoder1[0][0]']               \n",
      "                                                                                                  \n",
      " encoder_latent_vae (Dense)     (None, 32)           2080        ['enocder2[0][0]']               \n",
      "                                                                                                  \n",
      " mean (Dense)                   (None, 16)           528         ['encoder_latent_vae[0][0]']     \n",
      "                                                                                                  \n",
      " log_var (Dense)                (None, 16)           528         ['encoder_latent_vae[0][0]']     \n",
      "                                                                                                  \n",
      " sampling (Sampling)            (None, 16)           0           ['mean[0][0]',                   \n",
      "                                                                  'log_var[0][0]']                \n",
      "                                                                                                  \n",
      "==================================================================================================\n",
      "Total params: 17,408\n",
      "Trainable params: 17,408\n",
      "Non-trainable params: 0\n",
      "__________________________________________________________________________________________________\n"
     ]
    }
   ],
   "source": [
    "latent_dim = 16\n",
    "#encoder\n",
    "encoder_inputs = keras.Input(shape=(input_dim,),name='encoder_input')\n",
    "x = layers.Dense(128, activation=\"relu\",name=\"encoder1\")(encoder_inputs)\n",
    "x = layers.Dense(64, activation=\"relu\",name=\"enocder2\")(x)\n",
    "x = layers.Dense(32, activation=\"relu\",name=\"encoder_latent_vae\")(x)\n",
    "mean = layers.Dense(latent_dim, name=\"mean\")(x)\n",
    "log_var = layers.Dense(latent_dim, name=\"log_var\")(x)\n",
    "z = Sampling()([mean, log_var])\n",
    "\n",
    "encoder = keras.Model(encoder_inputs, [mean, log_var, z], name=\"encoder\")\n",
    "encoder.summary()\n",
    "\n"
   ]
  },
  {
   "cell_type": "code",
   "execution_count": 30,
   "id": "9a43f807-969d-4b49-9b40-85dfea08b6e9",
   "metadata": {},
   "outputs": [
    {
     "name": "stdout",
     "output_type": "stream",
     "text": [
      "Model: \"decoder\"\n",
      "_________________________________________________________________\n",
      " Layer (type)                Output Shape              Param #   \n",
      "=================================================================\n",
      " decoder_input (InputLayer)  [(None, 16)]              0         \n",
      "                                                                 \n",
      " decoder1_vae (Dense)        (None, 32)                544       \n",
      "                                                                 \n",
      " decoder2_vae (Dense)        (None, 64)                2112      \n",
      "                                                                 \n",
      " decoder3_vae (Dense)        (None, 128)               8320      \n",
      "                                                                 \n",
      " decoder_output (Dense)      (None, 46)                5934      \n",
      "                                                                 \n",
      "=================================================================\n",
      "Total params: 16,910\n",
      "Trainable params: 16,910\n",
      "Non-trainable params: 0\n",
      "_________________________________________________________________\n"
     ]
    }
   ],
   "source": [
    "#decoder\n",
    "\n",
    "latent_inputs = keras.Input(shape=(latent_dim,),name='decoder_input')\n",
    "x = layers.Dense(32, activation=\"relu\",name=\"decoder1_vae\")(latent_inputs)\n",
    "x = layers.Dense(64, activation=\"relu\", name=\"decoder2_vae\")(x)\n",
    "x = layers.Dense(128, activation=\"relu\", name=\"decoder3_vae\")(x)\n",
    "decoder_outputs = layers.Dense(input_dim, activation=\"sigmoid\", name='decoder_output')(x)\n",
    "\n",
    "decoder = keras.Model(latent_inputs, decoder_outputs, name=\"decoder\")\n",
    "decoder.summary()\n"
   ]
  },
  {
   "cell_type": "code",
   "execution_count": 31,
   "id": "ccb750a9-c532-489d-ab88-abe6455c2162",
   "metadata": {},
   "outputs": [],
   "source": [
    "import tensorflow as tf\n",
    "from tensorflow.keras.losses import MeanSquaredError\n",
    "# for training a defining and training a VAE model\n",
    "class VAE(tf.keras.Model):\n",
    "    def __init__(self, encoder, decoder, **kwargs):\n",
    "        super(VAE, self).__init__(**kwargs)\n",
    "        self.encoder = encoder\n",
    "        self.decoder = decoder\n",
    "        self.total_loss_tracker = tf.keras.metrics.Mean(name=\"total_loss\")\n",
    "        self.reconstruction_loss_tracker = tf.keras.metrics.Mean(name=\"reconstruction_loss\")\n",
    "        self.kl_loss_tracker = tf.keras.metrics.Mean(name=\"kl_loss\")\n",
    "        self.optimizer = tf.keras.optimizers.Adam()\n",
    "\n",
    "    def train_step(self, data):\n",
    "        data = tf.convert_to_tensor(data)\n",
    "        with tf.GradientTape() as tape:\n",
    "            mean, log_var, z = self.encoder(data)\n",
    "            reconstruction = self.decoder(z)\n",
    "\n",
    "            reconstruction_loss = tf.reduce_mean(MeanSquaredError()(data, reconstruction)) * data.shape[1]\n",
    "            \n",
    "            kl_loss = -0.5 * tf.reduce_sum(1 + log_var - tf.square(mean) - tf.exp(log_var), axis=-1)\n",
    "            kl_loss = tf.reduce_mean(kl_loss)\n",
    "            total_loss = reconstruction_loss + kl_loss\n",
    "\n",
    "        grads = tape.gradient(total_loss, self.trainable_weights)\n",
    "        self.optimizer.apply_gradients(zip(grads, self.trainable_weights))\n",
    "        self.total_loss_tracker.update_state(total_loss)\n",
    "        self.reconstruction_loss_tracker.update_state(reconstruction_loss)\n",
    "        self.kl_loss_tracker.update_state(kl_loss)\n",
    "\n",
    "        return {\n",
    "            \"loss\": self.total_loss_tracker.result(),\n",
    "            \"reconstruction_loss\": self.reconstruction_loss_tracker.result(),\n",
    "            \"kl_loss\": self.kl_loss_tracker.result(),\n",
    "        }\n",
    "\n",
    "    @property\n",
    "    def metrics(self):\n",
    "        return [self.total_loss_tracker, self.reconstruction_loss_tracker, self.kl_loss_tracker]\n",
    "\n"
   ]
  },
  {
   "cell_type": "code",
   "execution_count": 33,
   "id": "a08bf7e6-61f2-4416-90fe-12206cb82480",
   "metadata": {},
   "outputs": [],
   "source": [
    "#instance of the VAE model\n",
    "vae = VAE(encoder, decoder)\n",
    "vae.compile(optimizer=vae.optimizer)\n"
   ]
  },
  {
   "cell_type": "code",
   "execution_count": 34,
   "id": "d5b80218-2910-4f69-992b-469a509a2482",
   "metadata": {},
   "outputs": [
    {
     "name": "stdout",
     "output_type": "stream",
     "text": [
      "Model: \"encoder\"\n",
      "__________________________________________________________________________________________________\n",
      " Layer (type)                   Output Shape         Param #     Connected to                     \n",
      "==================================================================================================\n",
      " encoder_input (InputLayer)     [(None, 46)]         0           []                               \n",
      "                                                                                                  \n",
      " encoder1 (Dense)               (None, 128)          6016        ['encoder_input[0][0]']          \n",
      "                                                                                                  \n",
      " enocder2 (Dense)               (None, 64)           8256        ['encoder1[0][0]']               \n",
      "                                                                                                  \n",
      " encoder_latent_vae (Dense)     (None, 32)           2080        ['enocder2[0][0]']               \n",
      "                                                                                                  \n",
      " mean (Dense)                   (None, 16)           528         ['encoder_latent_vae[0][0]']     \n",
      "                                                                                                  \n",
      " log_var (Dense)                (None, 16)           528         ['encoder_latent_vae[0][0]']     \n",
      "                                                                                                  \n",
      " sampling (Sampling)            (None, 16)           0           ['mean[0][0]',                   \n",
      "                                                                  'log_var[0][0]']                \n",
      "                                                                                                  \n",
      "==================================================================================================\n",
      "Total params: 17,408\n",
      "Trainable params: 17,408\n",
      "Non-trainable params: 0\n",
      "__________________________________________________________________________________________________\n",
      "Model: \"decoder\"\n",
      "_________________________________________________________________\n",
      " Layer (type)                Output Shape              Param #   \n",
      "=================================================================\n",
      " decoder_input (InputLayer)  [(None, 16)]              0         \n",
      "                                                                 \n",
      " decoder1_vae (Dense)        (None, 32)                544       \n",
      "                                                                 \n",
      " decoder2_vae (Dense)        (None, 64)                2112      \n",
      "                                                                 \n",
      " decoder3_vae (Dense)        (None, 128)               8320      \n",
      "                                                                 \n",
      " decoder_output (Dense)      (None, 46)                5934      \n",
      "                                                                 \n",
      "=================================================================\n",
      "Total params: 16,910\n",
      "Trainable params: 16,910\n",
      "Non-trainable params: 0\n",
      "_________________________________________________________________\n"
     ]
    },
    {
     "data": {
      "text/plain": [
       "(None, None)"
      ]
     },
     "execution_count": 34,
     "metadata": {},
     "output_type": "execute_result"
    }
   ],
   "source": [
    "vae.encoder.summary(),vae.decoder.summary()"
   ]
  },
  {
   "cell_type": "code",
   "execution_count": 35,
   "id": "1a4d363a-b3dd-405a-a7da-9e39ae2b4f26",
   "metadata": {
    "scrolled": true
   },
   "outputs": [
    {
     "name": "stdout",
     "output_type": "stream",
     "text": [
      "Epoch 1/100\n",
      "1167165/1167165 [==============================] - 4229s 4ms/step - loss: 1.2906 - reconstruction_loss: 1.2886 - kl_loss: 4.6798e-06\n",
      "Epoch 2/100\n",
      "1167165/1167165 [==============================] - 4341s 4ms/step - loss: 1.2882 - reconstruction_loss: 1.2883 - kl_loss: 1.9078e-09\n",
      "Epoch 3/100\n",
      "1167165/1167165 [==============================] - 4325s 4ms/step - loss: 1.2885 - reconstruction_loss: 1.2883 - kl_loss: 1.9405e-09\n",
      "Epoch 4/100\n",
      "1167165/1167165 [==============================] - 4237s 4ms/step - loss: 1.2883 - reconstruction_loss: 1.2883 - kl_loss: 2.2701e-09\n",
      "Epoch 5/100\n",
      "1167165/1167165 [==============================] - 4234s 4ms/step - loss: 1.2883 - reconstruction_loss: 1.2883 - kl_loss: 2.4536e-09\n",
      "Epoch 6/100\n",
      "1167165/1167165 [==============================] - 4274s 4ms/step - loss: 1.2884 - reconstruction_loss: 1.2883 - kl_loss: 2.5273e-09\n",
      "Epoch 7/100\n",
      "1167165/1167165 [==============================] - 4272s 4ms/step - loss: 1.2882 - reconstruction_loss: 1.2884 - kl_loss: 2.5325e-09\n",
      "Epoch 8/100\n",
      "1167165/1167165 [==============================] - 4250s 4ms/step - loss: 1.2883 - reconstruction_loss: 1.2883 - kl_loss: 2.5550e-09\n",
      "Epoch 9/100\n",
      "1167165/1167165 [==============================] - 4319s 4ms/step - loss: 1.2884 - reconstruction_loss: 1.2883 - kl_loss: 2.6253e-09\n",
      "Epoch 10/100\n",
      "1167165/1167165 [==============================] - 4399s 4ms/step - loss: 1.2884 - reconstruction_loss: 1.2883 - kl_loss: 2.7206e-09\n",
      "Epoch 11/100\n",
      "1167165/1167165 [==============================] - 4415s 4ms/step - loss: 1.2884 - reconstruction_loss: 1.2883 - kl_loss: 2.8220e-09\n",
      "Epoch 12/100\n",
      "1167165/1167165 [==============================] - 4411s 4ms/step - loss: 1.2884 - reconstruction_loss: 1.2884 - kl_loss: 2.8395e-09\n",
      "Number of epochs run: 12\n",
      "Available keys in history: dict_keys(['loss', 'reconstruction_loss', 'kl_loss'])\n"
     ]
    }
   ],
   "source": [
    "#EarlyStopping callback\n",
    "early_stopping_callback= keras.callbacks.EarlyStopping(monitor='loss',patience=6,baseline=None,restore_best_weights=True)\n",
    "\n",
    "# model_checkpoint_callback\n",
    "checkpoint_filepath = 'variaAEmodel_CICIoT2023.keras'\n",
    "\n",
    "callbacks = [early_stopping_callback]\n",
    "#train with both callbacks\n",
    "history=vae.fit(X_train,epochs=100,batch_size=32,callbacks=[callbacks],verbose=1)\n",
    "\n",
    "print(\"Number of epochs run:\", len(history.history['loss']))\n",
    "print(\"Available keys in history:\", history.history.keys())\n"
   ]
  },
  {
   "cell_type": "code",
   "execution_count": 36,
   "id": "cdd193bf-cc01-4bff-b0fd-f38bdec42309",
   "metadata": {},
   "outputs": [
    {
     "name": "stdout",
     "output_type": "stream",
     "text": [
      "WARNING:tensorflow:Compiled the loaded model, but the compiled metrics have yet to be built. `model.compile_metrics` will be empty until you train or evaluate the model.\n"
     ]
    }
   ],
   "source": [
    "vae.encoder.save('encoder_CICIoT2023.keras')"
   ]
  },
  {
   "cell_type": "code",
   "execution_count": 37,
   "id": "1896fa5a-3434-468c-9118-beb16aa71ed4",
   "metadata": {},
   "outputs": [
    {
     "name": "stdout",
     "output_type": "stream",
     "text": [
      "WARNING:tensorflow:Compiled the loaded model, but the compiled metrics have yet to be built. `model.compile_metrics` will be empty until you train or evaluate the model.\n"
     ]
    }
   ],
   "source": [
    "vae.decoder.save('decoder_CICIoT2023.keras')"
   ]
  },
  {
   "cell_type": "code",
   "execution_count": 38,
   "id": "1fe6cc0d-86f6-4911-aeaa-f443fe755321",
   "metadata": {},
   "outputs": [
    {
     "data": {
      "text/plain": [
       "<KerasTensor: shape=(None, 16) dtype=float32 (created by layer 'sampling')>"
      ]
     },
     "execution_count": 38,
     "metadata": {},
     "output_type": "execute_result"
    }
   ],
   "source": [
    "vae.encoder.get_layer('sampling').output"
   ]
  },
  {
   "cell_type": "code",
   "execution_count": 39,
   "id": "a6fb5fcd-e6d2-47f5-a026-9d77cca24337",
   "metadata": {},
   "outputs": [
    {
     "name": "stdout",
     "output_type": "stream",
     "text": [
      "291792/291792 [==============================] - 430s 1ms/step\n"
     ]
    }
   ],
   "source": [
    "a,b,encoded=vae.encoder.predict(X_test)"
   ]
  },
  {
   "cell_type": "code",
   "execution_count": 40,
   "id": "bf60372b-1530-4a4a-808b-399008e470db",
   "metadata": {},
   "outputs": [
    {
     "name": "stdout",
     "output_type": "stream",
     "text": [
      "291792/291792 [==============================] - 1261s 4ms/step\n"
     ]
    }
   ],
   "source": [
    "decoded=vae.decoder.predict(encoded)"
   ]
  },
  {
   "cell_type": "code",
   "execution_count": 41,
   "id": "0807bbb6-b56d-407b-a5ef-685ebf98f9ea",
   "metadata": {},
   "outputs": [
    {
     "data": {
      "text/plain": [
       "0.028015044173615666"
      ]
     },
     "execution_count": 41,
     "metadata": {},
     "output_type": "execute_result"
    }
   ],
   "source": [
    "from sklearn.metrics import mean_squared_error\n",
    "mean_squared_error(X_test, decoded)"
   ]
  },
  {
   "cell_type": "code",
   "execution_count": 42,
   "id": "66632e37-16bb-4fb3-872b-8376f58c3ef0",
   "metadata": {},
   "outputs": [
    {
     "name": "stdout",
     "output_type": "stream",
     "text": [
      "Model: \"encoder\"\n",
      "__________________________________________________________________________________________________\n",
      " Layer (type)                   Output Shape         Param #     Connected to                     \n",
      "==================================================================================================\n",
      " encoder_input (InputLayer)     [(None, 46)]         0           []                               \n",
      "                                                                                                  \n",
      " encoder1 (Dense)               (None, 128)          6016        ['encoder_input[0][0]']          \n",
      "                                                                                                  \n",
      " enocder2 (Dense)               (None, 64)           8256        ['encoder1[0][0]']               \n",
      "                                                                                                  \n",
      " encoder_latent_vae (Dense)     (None, 32)           2080        ['enocder2[0][0]']               \n",
      "                                                                                                  \n",
      " mean (Dense)                   (None, 16)           528         ['encoder_latent_vae[0][0]']     \n",
      "                                                                                                  \n",
      " log_var (Dense)                (None, 16)           528         ['encoder_latent_vae[0][0]']     \n",
      "                                                                                                  \n",
      " sampling (Sampling)            (None, 16)           0           ['mean[0][0]',                   \n",
      "                                                                  'log_var[0][0]']                \n",
      "                                                                                                  \n",
      "==================================================================================================\n",
      "Total params: 17,408\n",
      "Trainable params: 0\n",
      "Non-trainable params: 17,408\n",
      "__________________________________________________________________________________________________\n"
     ]
    }
   ],
   "source": [
    "for layer in vae.encoder.layers:\n",
    "    layer.trainable = False\n",
    "vae.encoder.summary()"
   ]
  },
  {
   "cell_type": "code",
   "execution_count": 43,
   "id": "5096b3f4-034f-4870-ae85-e610f0151d3e",
   "metadata": {},
   "outputs": [
    {
     "data": {
      "text/plain": [
       "<KerasTensor: shape=(None, 16) dtype=float32 (created by layer 'sampling')>"
      ]
     },
     "execution_count": 43,
     "metadata": {},
     "output_type": "execute_result"
    }
   ],
   "source": [
    "vae.encoder.get_layer('sampling').output"
   ]
  },
  {
   "cell_type": "markdown",
   "id": "5b6cde27-def0-4f4d-be9b-f715ccad8e18",
   "metadata": {},
   "source": [
    "# Combined latent_space and creating a decoder"
   ]
  },
  {
   "cell_type": "code",
   "execution_count": 44,
   "id": "140df2c8-e714-4f4a-b97d-48b66e197d80",
   "metadata": {},
   "outputs": [],
   "source": [
    "\n",
    "VAE_input = vae.encoder.input\n",
    "VAE_output = vae.encoder.get_layer('sampling').output\n",
    "\n",
    "VaAE_input = vanilla.input\n",
    "VaAE_output = vanilla.get_layer('latent_vanilla').output\n",
    "\n",
    "combined = Concatenate(name='combined')([VAE_output, VaAE_output])\n",
    "\n",
    "l = Dense(128, activation='relu', name='combined1')(combined)\n",
    "l = Dense(64, activation='relu', name='combined2')(l)\n",
    "l = Dense(32, activation='relu', name='combined3')(l)\n",
    "output_combined= Dense(1, activation='sigmoid', name='combined_output')(l)\n",
    "\n",
    "\n",
    "combined_model = tf.keras.Model([VAE_input, VaAE_input], output_combined)\n"
   ]
  },
  {
   "cell_type": "code",
   "execution_count": 45,
   "id": "9a8f144f-2321-4cbe-a5c8-7951314b2b06",
   "metadata": {},
   "outputs": [
    {
     "name": "stdout",
     "output_type": "stream",
     "text": [
      "Model: \"model\"\n",
      "__________________________________________________________________________________________________\n",
      " Layer (type)                   Output Shape         Param #     Connected to                     \n",
      "==================================================================================================\n",
      " encoder_input (InputLayer)     [(None, 46)]         0           []                               \n",
      "                                                                                                  \n",
      " encoder1 (Dense)               (None, 128)          6016        ['encoder_input[0][0]']          \n",
      "                                                                                                  \n",
      " enocder2 (Dense)               (None, 64)           8256        ['encoder1[0][0]']               \n",
      "                                                                                                  \n",
      " input_vanilla (InputLayer)     [(None, 46)]         0           []                               \n",
      "                                                                                                  \n",
      " encoder_latent_vae (Dense)     (None, 32)           2080        ['enocder2[0][0]']               \n",
      "                                                                                                  \n",
      " encode1_vanilla (Dense)        (None, 128)          6016        ['input_vanilla[0][0]']          \n",
      "                                                                                                  \n",
      " mean (Dense)                   (None, 16)           528         ['encoder_latent_vae[0][0]']     \n",
      "                                                                                                  \n",
      " log_var (Dense)                (None, 16)           528         ['encoder_latent_vae[0][0]']     \n",
      "                                                                                                  \n",
      " encode2_vanilla (Dense)        (None, 64)           8256        ['encode1_vanilla[0][0]']        \n",
      "                                                                                                  \n",
      " sampling (Sampling)            (None, 16)           0           ['mean[0][0]',                   \n",
      "                                                                  'log_var[0][0]']                \n",
      "                                                                                                  \n",
      " latent_vanilla (Dense)         (None, 32)           2080        ['encode2_vanilla[0][0]']        \n",
      "                                                                                                  \n",
      " combined (Concatenate)         (None, 48)           0           ['sampling[0][0]',               \n",
      "                                                                  'latent_vanilla[0][0]']         \n",
      "                                                                                                  \n",
      " combined1 (Dense)              (None, 128)          6272        ['combined[0][0]']               \n",
      "                                                                                                  \n",
      " combined2 (Dense)              (None, 64)           8256        ['combined1[0][0]']              \n",
      "                                                                                                  \n",
      " combined3 (Dense)              (None, 32)           2080        ['combined2[0][0]']              \n",
      "                                                                                                  \n",
      " combined_output (Dense)        (None, 1)            33          ['combined3[0][0]']              \n",
      "                                                                                                  \n",
      "==================================================================================================\n",
      "Total params: 50,401\n",
      "Trainable params: 32,993\n",
      "Non-trainable params: 17,408\n",
      "__________________________________________________________________________________________________\n"
     ]
    }
   ],
   "source": [
    "combined_model.summary()"
   ]
  },
  {
   "cell_type": "code",
   "execution_count": 46,
   "id": "0b63df09-1db7-4d5b-9ad7-c26af5a5d93e",
   "metadata": {},
   "outputs": [],
   "source": [
    "combined_model.compile(optimizer='adam', loss='binary_crossentropy',metrics=['accuracy'])"
   ]
  },
  {
   "cell_type": "code",
   "execution_count": 47,
   "id": "fd5b214d-7545-4d7f-ac71-7b33c7d60c10",
   "metadata": {
    "scrolled": true
   },
   "outputs": [
    {
     "name": "stdout",
     "output_type": "stream",
     "text": [
      "Epoch 1/100\n",
      "933732/933732 [==============================] - 17083s 18ms/step - loss: 0.0183 - accuracy: 0.9938 - val_loss: 0.0212 - val_accuracy: 0.9919\n",
      "Epoch 2/100\n",
      "933732/933732 [==============================] - 16575s 18ms/step - loss: 0.0185 - accuracy: 0.9943 - val_loss: 0.0182 - val_accuracy: 0.9923\n",
      "Epoch 3/100\n",
      "933732/933732 [==============================] - 15635s 17ms/step - loss: 0.0380 - accuracy: 0.9865 - val_loss: 0.0317 - val_accuracy: 0.9855\n",
      "Epoch 4/100\n",
      "933732/933732 [==============================] - 17703s 19ms/step - loss: 0.0605 - accuracy: 0.9828 - val_loss: 0.0795 - val_accuracy: 0.9764\n",
      "Epoch 5/100\n",
      "933732/933732 [==============================] - 19495s 21ms/step - loss: 0.0856 - accuracy: 0.9792 - val_loss: 0.0804 - val_accuracy: 0.9764\n",
      "Epoch 6/100\n",
      "933732/933732 [==============================] - 21035s 23ms/step - loss: 0.0802 - accuracy: 0.9791 - val_loss: 0.0804 - val_accuracy: 0.9764\n",
      "Epoch 7/100\n",
      "933732/933732 [==============================] - 21212s 23ms/step - loss: 0.0804 - accuracy: 0.9791 - val_loss: 0.0854 - val_accuracy: 0.9764\n",
      "Epoch 8/100\n",
      "933732/933732 [==============================] - 20014s 21ms/step - loss: 0.0977 - accuracy: 0.9793 - val_loss: 0.1117 - val_accuracy: 0.9764\n",
      "Number of epochs run: 8\n"
     ]
    }
   ],
   "source": [
    "#EarlyStopping callback\n",
    "early_stopping_callback= keras.callbacks.EarlyStopping(monitor='val_loss',patience=6,baseline=None,restore_best_weights=True)\n",
    "\n",
    "# model_checkpoint_callback\n",
    "checkpoint_filepath = 'combinedmodel_CICIoT2023.keras'\n",
    "model_checkpoint_callback = keras.callbacks.ModelCheckpoint(filepath=checkpoint_filepath,monitor='val_loss',mode='min',save_best_only=True)\n",
    "\n",
    "\n",
    "callbacks = [early_stopping_callback, model_checkpoint_callback]\n",
    "#train with both callbacks\n",
    "history=combined_model.fit([X_train,X_train],y_train,epochs=100,batch_size=32,validation_split=0.2,callbacks=[callbacks],verbose=1)\n",
    "\n",
    "print(\"Number of epochs run:\", len(history.history['val_loss']))"
   ]
  },
  {
   "cell_type": "code",
   "execution_count": 48,
   "id": "2bf04ac2-cd40-4a45-9f6d-db6ebb33c037",
   "metadata": {},
   "outputs": [
    {
     "name": "stdout",
     "output_type": "stream",
     "text": [
      "291792/291792 [==============================] - 2991s 10ms/step - loss: 0.0182 - accuracy: 0.9923\n"
     ]
    },
    {
     "data": {
      "text/plain": [
       "[0.01817641779780388, 0.9923224449157715]"
      ]
     },
     "execution_count": 48,
     "metadata": {},
     "output_type": "execute_result"
    }
   ],
   "source": [
    "combined_model.evaluate([X_test,X_test],y_test)"
   ]
  },
  {
   "cell_type": "code",
   "execution_count": 49,
   "id": "5ae928b2-9882-4f4b-b67f-a906d30b0773",
   "metadata": {},
   "outputs": [],
   "source": [
    "from sklearn.metrics import confusion_matrix, classification_report,ConfusionMatrixDisplay\n",
    "import seaborn as sns\n",
    "import matplotlib.pyplot as plt"
   ]
  },
  {
   "cell_type": "code",
   "execution_count": 50,
   "id": "9a92e1b2-5479-437d-ac31-4ec25f6272d6",
   "metadata": {},
   "outputs": [
    {
     "name": "stdout",
     "output_type": "stream",
     "text": [
      "291792/291792 [==============================] - 2644s 9ms/step\n"
     ]
    }
   ],
   "source": [
    "y_pred_prob = combined_model.predict([X_test, X_test])\n",
    "y_pred = (y_pred_prob > 0.5).astype(int)"
   ]
  },
  {
   "cell_type": "code",
   "execution_count": 51,
   "id": "2a7656cc-a39e-4546-8c94-cdda1bf90f74",
   "metadata": {},
   "outputs": [],
   "source": [
    "cm = confusion_matrix(y_test, y_pred)\n"
   ]
  },
  {
   "cell_type": "code",
   "execution_count": 52,
   "id": "42afa7bd-0982-41fb-bd9f-1ef3f006e8f4",
   "metadata": {},
   "outputs": [
    {
     "data": {
      "image/png": "[encoded data removed]",
      "text/plain": [
       "<Figure size 640x480 with 2 Axes>"
      ]
     },
     "metadata": {},
     "output_type": "display_data"
    }
   ],
   "source": [
    "cm = ConfusionMatrixDisplay(cm)\n",
    "cm.plot()\n",
    "plt.title('Confusion Matrix',fontsize=9)\n",
    "plt.show()"
   ]
  },
  {
   "cell_type": "code",
   "execution_count": 53,
   "id": "238aea55-1e61-405f-a0bc-fc67b53c712c",
   "metadata": {},
   "outputs": [
    {
     "name": "stdout",
     "output_type": "stream",
     "text": [
      "              precision    recall  f1-score   support\n",
      "\n",
      "           0    0.81555   0.86951   0.84166    219189\n",
      "           1    0.99686   0.99527   0.99606   9118127\n",
      "\n",
      "    accuracy                        0.99232   9337316\n",
      "   macro avg    0.90620   0.93239   0.91886   9337316\n",
      "weighted avg    0.99260   0.99232   0.99244   9337316\n",
      "\n"
     ]
    }
   ],
   "source": [
    "print(classification_report(y_test, y_pred,digits=5))"
   ]
  },
  {
   "cell_type": "code",
   "execution_count": 54,
   "id": "ffa2d0ed-bf49-4a4d-866f-5c27abc094b3",
   "metadata": {},
   "outputs": [
    {
     "data": {
      "image/png": "[encoded data removed]",
      "text/plain": [
       "<Figure size 640x480 with 1 Axes>"
      ]
     },
     "metadata": {},
     "output_type": "display_data"
    }
   ],
   "source": [
    "from sklearn.metrics import roc_curve, auc,matthews_corrcoef\n",
    "fpr, tpr, thresholds = roc_curve(y_test, y_pred_prob)\n",
    "roc_auc = auc(fpr, tpr)\n",
    "\n",
    "# Plot ROC curve\n",
    "plt.figure()\n",
    "plt.plot(fpr, tpr, color='darkorange', lw=2, label='ROC curve (area = %0.2f)' % roc_auc)\n",
    "plt.plot([0, 1], [0, 1], color='navy', lw=2, linestyle='--')\n",
    "plt.xlim([0.0, 1.0])\n",
    "plt.ylim([0.0, 1.05])\n",
    "plt.xlabel('False Positive Rate')\n",
    "plt.ylabel('True Positive Rate')\n",
    "plt.title('Receiver Operating Characteristic')\n",
    "plt.legend(loc='lower right')\n",
    "plt.show()"
   ]
  },
  {
   "cell_type": "code",
   "execution_count": 55,
   "id": "9752198b-d156-4d38-bece-f97ef40535e5",
   "metadata": {},
   "outputs": [],
   "source": [
    "mcc = matthews_corrcoef(y_test, y_pred)\n"
   ]
  },
  {
   "cell_type": "code",
   "execution_count": 56,
   "id": "daf661c5-a028-4924-8008-636526baf2ba",
   "metadata": {},
   "outputs": [
    {
     "name": "stdout",
     "output_type": "stream",
     "text": [
      "Matthews Correlation Coefficient: 0.8381844002842069\n"
     ]
    }
   ],
   "source": [
    "\n",
    "print(\"Matthews Correlation Coefficient:\", mcc)\n"
   ]
  },
  {
   "cell_type": "code",
   "execution_count": 57,
   "id": "2bb6daa1-fe62-49c7-b0f1-79051fbbcdb1",
   "metadata": {},
   "outputs": [
    {
     "data": {
      "image/png": "[encoded data removed]",
      "text/plain": [
       "<Figure size 800x400 with 1 Axes>"
      ]
     },
     "metadata": {},
     "output_type": "display_data"
    }
   ],
   "source": [
    "# Plot training & validation accuracy values\n",
    "plt.figure(figsize= (8, 4))\n",
    "plt.plot(history.history['accuracy'])\n",
    "plt.plot(history.history['val_accuracy'])\n",
    "plt.title('Model accuracy')\n",
    "plt.ylabel('Accuracy')\n",
    "plt.xlabel('Epoch')\n",
    "plt.legend(['Train', 'Test'], loc='upper left')\n",
    "plt.show()"
   ]
  },
  {
   "cell_type": "code",
   "execution_count": 58,
   "id": "eae1ce95-e5c1-47ec-90e9-40f6d68f2367",
   "metadata": {},
   "outputs": [
    {
     "data": {
      "image/png": "[encoded data removed]",
      "text/plain": [
       "<Figure size 800x400 with 1 Axes>"
      ]
     },
     "metadata": {},
     "output_type": "display_data"
    }
   ],
   "source": [
    "# Plot training & validation loss values\n",
    "plt.figure(figsize= (8, 4))\n",
    "plt.plot(history.history['loss'])\n",
    "plt.plot(history.history['val_loss'])\n",
    "plt.title('Model loss')\n",
    "plt.ylabel('Loss')\n",
    "plt.xlabel('Epoch')\n",
    "plt.legend(['Train', 'Test'], loc='upper left')\n",
    "plt.show()"
   ]
  },
  {
   "cell_type": "code",
   "execution_count": 59,
   "id": "78682fc3-4a3c-4f4d-8feb-e39872989251",
   "metadata": {},
   "outputs": [
    {
     "data": {
      "text/plain": [
       "<matplotlib.legend.Legend at 0x1b401515720>"
      ]
     },
     "execution_count": 59,
     "metadata": {},
     "output_type": "execute_result"
    },
    {
     "data": {
      "image/png": "[encoded data removed]",
      "text/plain": [
       "<Figure size 1000x400 with 1 Axes>"
      ]
     },
     "metadata": {},
     "output_type": "display_data"
    }
   ],
   "source": [
    "tr_loss = history.history['loss']\n",
    "val_loss = history.history['val_loss']\n",
    "index_loss = np.argmin(val_loss)\n",
    "val_lowest = val_loss[index_loss]\n",
    "\n",
    "Epochs = [i+1 for i in range(len(tr_loss))]\n",
    "loss_label = f'best epoch= {str(index_loss + 1)}'\n",
    "\n",
    "# Plot training history\n",
    "plt.figure(figsize= (10, 4))\n",
    "plt.style.use('fivethirtyeight')\n",
    "\n",
    "plt.plot(Epochs, tr_loss, 'r', label= 'Training loss')\n",
    "plt.plot(Epochs, val_loss, 'g', label= 'Validation loss')\n",
    "plt.scatter(index_loss + 1, val_lowest, s= 100, c= 'blue', label= loss_label)\n",
    "plt.title('Training and Validation Loss')\n",
    "plt.xlabel('Epochs')\n",
    "plt.ylabel('Loss')\n",
    "plt.legend()"
   ]
  }
 ],
 "metadata": {
  "kernelspec": {
   "display_name": "Python 3 (ipykernel)",
   "language": "python",
   "name": "python3"
  },
  "language_info": {
   "codemirror_mode": {
    "name": "ipython",
    "version": 3
   },
   "file_extension": ".py",
   "mimetype": "text/x-python",
   "name": "python",
   "nbconvert_exporter": "python",
   "pygments_lexer": "ipython3",
   "version": "3.11.8"
  }
 },
 "nbformat": 4,
 "nbformat_minor": 5
}
