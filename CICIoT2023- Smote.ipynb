{
 "cells": [
  {
   "cell_type": "markdown",
   "id": "2235268e-0921-49a7-bb63-2e231afe208b",
   "metadata": {},
   "source": [
    "# Importing libraries"
   ]
  },
  {
   "cell_type": "code",
   "execution_count": 6,
   "id": "b22c30fe-a2cf-4af8-bac0-4c1caf5c8b5d",
   "metadata": {},
   "outputs": [],
   "source": [
    "import numpy as np\n",
    "import pandas as pd\n",
    "from sklearn import preprocessing\n",
    "from sklearn.preprocessing import MinMaxScaler\n",
    "from sklearn.model_selection import train_test_split\n",
    "from sklearn.preprocessing import OneHotEncoder\n",
    "from keras.utils import to_categorical\n",
    "import keras"
   ]
  },
  {
   "cell_type": "markdown",
   "id": "3b7acbc3-019f-4a4e-ab3a-bc6c122475d3",
   "metadata": {
    "jp-MarkdownHeadingCollapsed": true
   },
   "source": [
    "# Dataset compiling for binary"
   ]
  },
  {
   "cell_type": "code",
   "execution_count": null,
   "id": "fe5f94bc-db40-40cc-83dc-7c9a03a83cf5",
   "metadata": {},
   "outputs": [],
   "source": [
    "df= pd.read_csv(\"CICIoT2023.csv\",low_memory=False)"
   ]
  },
  {
   "cell_type": "code",
   "execution_count": null,
   "id": "6738a7d0-56b5-4b15-bae6-c4fa362997f9",
   "metadata": {},
   "outputs": [],
   "source": [
    "df.head(5)"
   ]
  },
  {
   "cell_type": "code",
   "execution_count": null,
   "id": "893fa113-23a3-4961-91d1-3d74fe7951bb",
   "metadata": {},
   "outputs": [],
   "source": [
    "attack = []\n",
    "for label in df['label']:\n",
    "    if label == 'BenignTraffic':\n",
    "        attack.append(0)  # Assign 0 for \"BenignTraffic\"\n",
    "    else:\n",
    "        attack.append(1)  # Assign 1 for any other traffic type\n",
    "\n",
    "# Create a new column 'traffic_type' and store the results\n",
    "df['attack'] = attack\n",
    "\n"
   ]
  },
  {
   "cell_type": "code",
   "execution_count": null,
   "id": "1b2a61fc-679c-4035-9912-134e49b89c84",
   "metadata": {},
   "outputs": [],
   "source": [
    "data= df.sample(frac=1).reset_index(drop=True)"
   ]
  },
  {
   "cell_type": "code",
   "execution_count": null,
   "id": "ea830df8-1012-49d4-9d74-c3a6589be51a",
   "metadata": {},
   "outputs": [],
   "source": [
    "data= data.drop(columns=['label'])"
   ]
  },
  {
   "cell_type": "code",
   "execution_count": null,
   "id": "bbd63efe-36cb-4814-b740-a48c4ec93216",
   "metadata": {},
   "outputs": [],
   "source": [
    "data.to_csv('CICIoT2023_binary.csv', index=False)"
   ]
  },
  {
   "cell_type": "markdown",
   "id": "e4d531f8-caa5-4bca-95de-e1618301623e",
   "metadata": {},
   "source": [
    "# Loading The Final dataset"
   ]
  },
  {
   "cell_type": "code",
   "execution_count": 7,
   "id": "20e67fe5-4f68-4084-b03b-28c678017ed3",
   "metadata": {},
   "outputs": [],
   "source": [
    "dataset= pd.read_csv(\"CICIoT2023_binary.csv\",low_memory=False)"
   ]
  },
  {
   "cell_type": "code",
   "execution_count": 8,
   "id": "9315e329-94da-43d8-a4fd-7b4ea1498d23",
   "metadata": {},
   "outputs": [
    {
     "data": {
      "text/html": [
       "<div>\n",
       "<style scoped>\n",
       "    .dataframe tbody tr th:only-of-type {\n",
       "        vertical-align: middle;\n",
       "    }\n",
       "\n",
       "    .dataframe tbody tr th {\n",
       "        vertical-align: top;\n",
       "    }\n",
       "\n",
       "    .dataframe thead th {\n",
       "        text-align: right;\n",
       "    }\n",
       "</style>\n",
       "<table border=\"1\" class=\"dataframe\">\n",
       "  <thead>\n",
       "    <tr style=\"text-align: right;\">\n",
       "      <th></th>\n",
       "      <th>flow_duration</th>\n",
       "      <th>Header_Length</th>\n",
       "      <th>Protocol Type</th>\n",
       "      <th>Duration</th>\n",
       "      <th>Rate</th>\n",
       "      <th>Srate</th>\n",
       "      <th>Drate</th>\n",
       "      <th>fin_flag_number</th>\n",
       "      <th>syn_flag_number</th>\n",
       "      <th>rst_flag_number</th>\n",
       "      <th>...</th>\n",
       "      <th>Std</th>\n",
       "      <th>Tot size</th>\n",
       "      <th>IAT</th>\n",
       "      <th>Number</th>\n",
       "      <th>Magnitue</th>\n",
       "      <th>Radius</th>\n",
       "      <th>Covariance</th>\n",
       "      <th>Variance</th>\n",
       "      <th>Weight</th>\n",
       "      <th>attack</th>\n",
       "    </tr>\n",
       "  </thead>\n",
       "  <tbody>\n",
       "    <tr>\n",
       "      <th>0</th>\n",
       "      <td>4.392135</td>\n",
       "      <td>129.74</td>\n",
       "      <td>6.00</td>\n",
       "      <td>140.40</td>\n",
       "      <td>0.559296</td>\n",
       "      <td>0.559296</td>\n",
       "      <td>0.0</td>\n",
       "      <td>0.0</td>\n",
       "      <td>1.0</td>\n",
       "      <td>0.0</td>\n",
       "      <td>...</td>\n",
       "      <td>0.755748</td>\n",
       "      <td>54.80</td>\n",
       "      <td>8.298563e+07</td>\n",
       "      <td>9.5</td>\n",
       "      <td>10.476807</td>\n",
       "      <td>1.068711</td>\n",
       "      <td>1.503081</td>\n",
       "      <td>0.38</td>\n",
       "      <td>141.55</td>\n",
       "      <td>1</td>\n",
       "    </tr>\n",
       "    <tr>\n",
       "      <th>1</th>\n",
       "      <td>0.000000</td>\n",
       "      <td>53.46</td>\n",
       "      <td>5.94</td>\n",
       "      <td>63.36</td>\n",
       "      <td>1.267193</td>\n",
       "      <td>1.267193</td>\n",
       "      <td>0.0</td>\n",
       "      <td>1.0</td>\n",
       "      <td>0.0</td>\n",
       "      <td>1.0</td>\n",
       "      <td>...</td>\n",
       "      <td>0.040218</td>\n",
       "      <td>54.06</td>\n",
       "      <td>8.334421e+07</td>\n",
       "      <td>9.5</td>\n",
       "      <td>10.393232</td>\n",
       "      <td>0.057331</td>\n",
       "      <td>0.054789</td>\n",
       "      <td>0.03</td>\n",
       "      <td>141.55</td>\n",
       "      <td>1</td>\n",
       "    </tr>\n",
       "    <tr>\n",
       "      <th>2</th>\n",
       "      <td>1.103960</td>\n",
       "      <td>87.09</td>\n",
       "      <td>6.00</td>\n",
       "      <td>63.78</td>\n",
       "      <td>1.571309</td>\n",
       "      <td>1.571309</td>\n",
       "      <td>0.0</td>\n",
       "      <td>0.0</td>\n",
       "      <td>1.0</td>\n",
       "      <td>0.0</td>\n",
       "      <td>...</td>\n",
       "      <td>0.000000</td>\n",
       "      <td>54.00</td>\n",
       "      <td>8.336180e+07</td>\n",
       "      <td>9.5</td>\n",
       "      <td>10.392305</td>\n",
       "      <td>0.000000</td>\n",
       "      <td>0.000000</td>\n",
       "      <td>0.00</td>\n",
       "      <td>141.55</td>\n",
       "      <td>1</td>\n",
       "    </tr>\n",
       "    <tr>\n",
       "      <th>3</th>\n",
       "      <td>0.000000</td>\n",
       "      <td>0.00</td>\n",
       "      <td>1.00</td>\n",
       "      <td>64.00</td>\n",
       "      <td>3.877044</td>\n",
       "      <td>3.877044</td>\n",
       "      <td>0.0</td>\n",
       "      <td>0.0</td>\n",
       "      <td>0.0</td>\n",
       "      <td>0.0</td>\n",
       "      <td>...</td>\n",
       "      <td>0.000000</td>\n",
       "      <td>42.00</td>\n",
       "      <td>8.314963e+07</td>\n",
       "      <td>9.5</td>\n",
       "      <td>9.165151</td>\n",
       "      <td>0.000000</td>\n",
       "      <td>0.000000</td>\n",
       "      <td>0.00</td>\n",
       "      <td>141.55</td>\n",
       "      <td>1</td>\n",
       "    </tr>\n",
       "    <tr>\n",
       "      <th>4</th>\n",
       "      <td>0.000000</td>\n",
       "      <td>54.00</td>\n",
       "      <td>6.00</td>\n",
       "      <td>64.00</td>\n",
       "      <td>2.095570</td>\n",
       "      <td>2.095570</td>\n",
       "      <td>0.0</td>\n",
       "      <td>0.0</td>\n",
       "      <td>0.0</td>\n",
       "      <td>0.0</td>\n",
       "      <td>...</td>\n",
       "      <td>0.000000</td>\n",
       "      <td>54.00</td>\n",
       "      <td>8.331821e+07</td>\n",
       "      <td>9.5</td>\n",
       "      <td>10.392305</td>\n",
       "      <td>0.000000</td>\n",
       "      <td>0.000000</td>\n",
       "      <td>0.00</td>\n",
       "      <td>141.55</td>\n",
       "      <td>1</td>\n",
       "    </tr>\n",
       "  </tbody>\n",
       "</table>\n",
       "<p>5 rows × 47 columns</p>\n",
       "</div>"
      ],
      "text/plain": [
       "   flow_duration  Header_Length  Protocol Type  Duration      Rate     Srate  \\\n",
       "0       4.392135         129.74           6.00    140.40  0.559296  0.559296   \n",
       "1       0.000000          53.46           5.94     63.36  1.267193  1.267193   \n",
       "2       1.103960          87.09           6.00     63.78  1.571309  1.571309   \n",
       "3       0.000000           0.00           1.00     64.00  3.877044  3.877044   \n",
       "4       0.000000          54.00           6.00     64.00  2.095570  2.095570   \n",
       "\n",
       "   Drate  fin_flag_number  syn_flag_number  rst_flag_number  ...       Std  \\\n",
       "0    0.0              0.0              1.0              0.0  ...  0.755748   \n",
       "1    0.0              1.0              0.0              1.0  ...  0.040218   \n",
       "2    0.0              0.0              1.0              0.0  ...  0.000000   \n",
       "3    0.0              0.0              0.0              0.0  ...  0.000000   \n",
       "4    0.0              0.0              0.0              0.0  ...  0.000000   \n",
       "\n",
       "   Tot size           IAT  Number   Magnitue    Radius  Covariance  Variance  \\\n",
       "0     54.80  8.298563e+07     9.5  10.476807  1.068711    1.503081      0.38   \n",
       "1     54.06  8.334421e+07     9.5  10.393232  0.057331    0.054789      0.03   \n",
       "2     54.00  8.336180e+07     9.5  10.392305  0.000000    0.000000      0.00   \n",
       "3     42.00  8.314963e+07     9.5   9.165151  0.000000    0.000000      0.00   \n",
       "4     54.00  8.331821e+07     9.5  10.392305  0.000000    0.000000      0.00   \n",
       "\n",
       "   Weight  attack  \n",
       "0  141.55       1  \n",
       "1  141.55       1  \n",
       "2  141.55       1  \n",
       "3  141.55       1  \n",
       "4  141.55       1  \n",
       "\n",
       "[5 rows x 47 columns]"
      ]
     },
     "execution_count": 8,
     "metadata": {},
     "output_type": "execute_result"
    }
   ],
   "source": [
    "dataset.head()"
   ]
  },
  {
   "cell_type": "code",
   "execution_count": 9,
   "id": "2a7fd7c3-0726-4701-9a5d-12ec8d8e8641",
   "metadata": {},
   "outputs": [
    {
     "data": {
      "text/html": [
       "<div>\n",
       "<style scoped>\n",
       "    .dataframe tbody tr th:only-of-type {\n",
       "        vertical-align: middle;\n",
       "    }\n",
       "\n",
       "    .dataframe tbody tr th {\n",
       "        vertical-align: top;\n",
       "    }\n",
       "\n",
       "    .dataframe thead th {\n",
       "        text-align: right;\n",
       "    }\n",
       "</style>\n",
       "<table border=\"1\" class=\"dataframe\">\n",
       "  <thead>\n",
       "    <tr style=\"text-align: right;\">\n",
       "      <th></th>\n",
       "      <th>flow_duration</th>\n",
       "      <th>Header_Length</th>\n",
       "      <th>Protocol Type</th>\n",
       "      <th>Duration</th>\n",
       "      <th>Rate</th>\n",
       "      <th>Srate</th>\n",
       "      <th>Drate</th>\n",
       "      <th>fin_flag_number</th>\n",
       "      <th>syn_flag_number</th>\n",
       "      <th>rst_flag_number</th>\n",
       "      <th>...</th>\n",
       "      <th>Std</th>\n",
       "      <th>Tot size</th>\n",
       "      <th>IAT</th>\n",
       "      <th>Number</th>\n",
       "      <th>Magnitue</th>\n",
       "      <th>Radius</th>\n",
       "      <th>Covariance</th>\n",
       "      <th>Variance</th>\n",
       "      <th>Weight</th>\n",
       "      <th>attack</th>\n",
       "    </tr>\n",
       "  </thead>\n",
       "  <tbody>\n",
       "    <tr>\n",
       "      <th>count</th>\n",
       "      <td>4.668658e+07</td>\n",
       "      <td>4.668658e+07</td>\n",
       "      <td>4.668658e+07</td>\n",
       "      <td>4.668658e+07</td>\n",
       "      <td>4.668658e+07</td>\n",
       "      <td>4.668658e+07</td>\n",
       "      <td>4.668658e+07</td>\n",
       "      <td>4.668658e+07</td>\n",
       "      <td>4.668658e+07</td>\n",
       "      <td>4.668658e+07</td>\n",
       "      <td>...</td>\n",
       "      <td>4.668658e+07</td>\n",
       "      <td>4.668658e+07</td>\n",
       "      <td>4.668658e+07</td>\n",
       "      <td>4.668658e+07</td>\n",
       "      <td>4.668658e+07</td>\n",
       "      <td>4.668658e+07</td>\n",
       "      <td>4.668658e+07</td>\n",
       "      <td>4.668658e+07</td>\n",
       "      <td>4.668658e+07</td>\n",
       "      <td>4.668658e+07</td>\n",
       "    </tr>\n",
       "    <tr>\n",
       "      <th>mean</th>\n",
       "      <td>5.765449e+00</td>\n",
       "      <td>7.670596e+04</td>\n",
       "      <td>9.065690e+00</td>\n",
       "      <td>6.635072e+01</td>\n",
       "      <td>9.064057e+03</td>\n",
       "      <td>9.064057e+03</td>\n",
       "      <td>5.463949e-06</td>\n",
       "      <td>8.657207e-02</td>\n",
       "      <td>2.073353e-01</td>\n",
       "      <td>9.050473e-02</td>\n",
       "      <td>...</td>\n",
       "      <td>3.332481e+01</td>\n",
       "      <td>1.246916e+02</td>\n",
       "      <td>8.318253e+07</td>\n",
       "      <td>9.498489e+00</td>\n",
       "      <td>1.312182e+01</td>\n",
       "      <td>4.709498e+01</td>\n",
       "      <td>3.072436e+04</td>\n",
       "      <td>9.643760e-02</td>\n",
       "      <td>1.415124e+02</td>\n",
       "      <td>9.764773e-01</td>\n",
       "    </tr>\n",
       "    <tr>\n",
       "      <th>std</th>\n",
       "      <td>2.850342e+02</td>\n",
       "      <td>4.613317e+05</td>\n",
       "      <td>8.945533e+00</td>\n",
       "      <td>1.401919e+01</td>\n",
       "      <td>9.956249e+04</td>\n",
       "      <td>9.956249e+04</td>\n",
       "      <td>7.250766e-03</td>\n",
       "      <td>2.812070e-01</td>\n",
       "      <td>4.053978e-01</td>\n",
       "      <td>2.869035e-01</td>\n",
       "      <td>...</td>\n",
       "      <td>1.603357e+02</td>\n",
       "      <td>2.415493e+02</td>\n",
       "      <td>1.704735e+07</td>\n",
       "      <td>8.191532e-01</td>\n",
       "      <td>8.628579e+00</td>\n",
       "      <td>2.267696e+02</td>\n",
       "      <td>3.237107e+05</td>\n",
       "      <td>2.330010e-01</td>\n",
       "      <td>2.106831e+01</td>\n",
       "      <td>1.515566e-01</td>\n",
       "    </tr>\n",
       "    <tr>\n",
       "      <th>min</th>\n",
       "      <td>0.000000e+00</td>\n",
       "      <td>0.000000e+00</td>\n",
       "      <td>0.000000e+00</td>\n",
       "      <td>0.000000e+00</td>\n",
       "      <td>0.000000e+00</td>\n",
       "      <td>0.000000e+00</td>\n",
       "      <td>0.000000e+00</td>\n",
       "      <td>0.000000e+00</td>\n",
       "      <td>0.000000e+00</td>\n",
       "      <td>0.000000e+00</td>\n",
       "      <td>...</td>\n",
       "      <td>0.000000e+00</td>\n",
       "      <td>4.200000e+01</td>\n",
       "      <td>0.000000e+00</td>\n",
       "      <td>1.000000e+00</td>\n",
       "      <td>9.165151e+00</td>\n",
       "      <td>0.000000e+00</td>\n",
       "      <td>0.000000e+00</td>\n",
       "      <td>0.000000e+00</td>\n",
       "      <td>1.000000e+00</td>\n",
       "      <td>0.000000e+00</td>\n",
       "    </tr>\n",
       "    <tr>\n",
       "      <th>25%</th>\n",
       "      <td>0.000000e+00</td>\n",
       "      <td>5.400000e+01</td>\n",
       "      <td>6.000000e+00</td>\n",
       "      <td>6.400000e+01</td>\n",
       "      <td>2.091856e+00</td>\n",
       "      <td>2.091856e+00</td>\n",
       "      <td>0.000000e+00</td>\n",
       "      <td>0.000000e+00</td>\n",
       "      <td>0.000000e+00</td>\n",
       "      <td>0.000000e+00</td>\n",
       "      <td>...</td>\n",
       "      <td>0.000000e+00</td>\n",
       "      <td>5.000000e+01</td>\n",
       "      <td>8.307157e+07</td>\n",
       "      <td>9.500000e+00</td>\n",
       "      <td>1.000000e+01</td>\n",
       "      <td>0.000000e+00</td>\n",
       "      <td>0.000000e+00</td>\n",
       "      <td>0.000000e+00</td>\n",
       "      <td>1.415500e+02</td>\n",
       "      <td>1.000000e+00</td>\n",
       "    </tr>\n",
       "    <tr>\n",
       "      <th>50%</th>\n",
       "      <td>0.000000e+00</td>\n",
       "      <td>5.400000e+01</td>\n",
       "      <td>6.000000e+00</td>\n",
       "      <td>6.400000e+01</td>\n",
       "      <td>1.575423e+01</td>\n",
       "      <td>1.575423e+01</td>\n",
       "      <td>0.000000e+00</td>\n",
       "      <td>0.000000e+00</td>\n",
       "      <td>0.000000e+00</td>\n",
       "      <td>0.000000e+00</td>\n",
       "      <td>...</td>\n",
       "      <td>0.000000e+00</td>\n",
       "      <td>5.400000e+01</td>\n",
       "      <td>8.312452e+07</td>\n",
       "      <td>9.500000e+00</td>\n",
       "      <td>1.039230e+01</td>\n",
       "      <td>0.000000e+00</td>\n",
       "      <td>0.000000e+00</td>\n",
       "      <td>0.000000e+00</td>\n",
       "      <td>1.415500e+02</td>\n",
       "      <td>1.000000e+00</td>\n",
       "    </tr>\n",
       "    <tr>\n",
       "      <th>75%</th>\n",
       "      <td>1.051381e-01</td>\n",
       "      <td>2.805550e+02</td>\n",
       "      <td>1.433000e+01</td>\n",
       "      <td>6.400000e+01</td>\n",
       "      <td>1.173848e+02</td>\n",
       "      <td>1.173848e+02</td>\n",
       "      <td>0.000000e+00</td>\n",
       "      <td>0.000000e+00</td>\n",
       "      <td>0.000000e+00</td>\n",
       "      <td>0.000000e+00</td>\n",
       "      <td>...</td>\n",
       "      <td>3.719096e-01</td>\n",
       "      <td>5.406000e+01</td>\n",
       "      <td>8.334391e+07</td>\n",
       "      <td>9.500000e+00</td>\n",
       "      <td>1.039671e+01</td>\n",
       "      <td>5.059213e-01</td>\n",
       "      <td>1.344216e+00</td>\n",
       "      <td>8.000000e-02</td>\n",
       "      <td>1.415500e+02</td>\n",
       "      <td>1.000000e+00</td>\n",
       "    </tr>\n",
       "    <tr>\n",
       "      <th>max</th>\n",
       "      <td>3.943572e+05</td>\n",
       "      <td>9.907148e+06</td>\n",
       "      <td>4.700000e+01</td>\n",
       "      <td>2.550000e+02</td>\n",
       "      <td>8.388608e+06</td>\n",
       "      <td>8.388608e+06</td>\n",
       "      <td>2.971522e+01</td>\n",
       "      <td>1.000000e+00</td>\n",
       "      <td>1.000000e+00</td>\n",
       "      <td>1.000000e+00</td>\n",
       "      <td>...</td>\n",
       "      <td>1.238524e+04</td>\n",
       "      <td>1.358300e+04</td>\n",
       "      <td>1.676394e+08</td>\n",
       "      <td>1.500000e+01</td>\n",
       "      <td>1.648211e+02</td>\n",
       "      <td>1.755127e+04</td>\n",
       "      <td>1.549022e+08</td>\n",
       "      <td>1.000000e+00</td>\n",
       "      <td>2.446000e+02</td>\n",
       "      <td>1.000000e+00</td>\n",
       "    </tr>\n",
       "  </tbody>\n",
       "</table>\n",
       "<p>8 rows × 47 columns</p>\n",
       "</div>"
      ],
      "text/plain": [
       "       flow_duration  Header_Length  Protocol Type      Duration  \\\n",
       "count   4.668658e+07   4.668658e+07   4.668658e+07  4.668658e+07   \n",
       "mean    5.765449e+00   7.670596e+04   9.065690e+00  6.635072e+01   \n",
       "std     2.850342e+02   4.613317e+05   8.945533e+00  1.401919e+01   \n",
       "min     0.000000e+00   0.000000e+00   0.000000e+00  0.000000e+00   \n",
       "25%     0.000000e+00   5.400000e+01   6.000000e+00  6.400000e+01   \n",
       "50%     0.000000e+00   5.400000e+01   6.000000e+00  6.400000e+01   \n",
       "75%     1.051381e-01   2.805550e+02   1.433000e+01  6.400000e+01   \n",
       "max     3.943572e+05   9.907148e+06   4.700000e+01  2.550000e+02   \n",
       "\n",
       "               Rate         Srate         Drate  fin_flag_number  \\\n",
       "count  4.668658e+07  4.668658e+07  4.668658e+07     4.668658e+07   \n",
       "mean   9.064057e+03  9.064057e+03  5.463949e-06     8.657207e-02   \n",
       "std    9.956249e+04  9.956249e+04  7.250766e-03     2.812070e-01   \n",
       "min    0.000000e+00  0.000000e+00  0.000000e+00     0.000000e+00   \n",
       "25%    2.091856e+00  2.091856e+00  0.000000e+00     0.000000e+00   \n",
       "50%    1.575423e+01  1.575423e+01  0.000000e+00     0.000000e+00   \n",
       "75%    1.173848e+02  1.173848e+02  0.000000e+00     0.000000e+00   \n",
       "max    8.388608e+06  8.388608e+06  2.971522e+01     1.000000e+00   \n",
       "\n",
       "       syn_flag_number  rst_flag_number  ...           Std      Tot size  \\\n",
       "count     4.668658e+07     4.668658e+07  ...  4.668658e+07  4.668658e+07   \n",
       "mean      2.073353e-01     9.050473e-02  ...  3.332481e+01  1.246916e+02   \n",
       "std       4.053978e-01     2.869035e-01  ...  1.603357e+02  2.415493e+02   \n",
       "min       0.000000e+00     0.000000e+00  ...  0.000000e+00  4.200000e+01   \n",
       "25%       0.000000e+00     0.000000e+00  ...  0.000000e+00  5.000000e+01   \n",
       "50%       0.000000e+00     0.000000e+00  ...  0.000000e+00  5.400000e+01   \n",
       "75%       0.000000e+00     0.000000e+00  ...  3.719096e-01  5.406000e+01   \n",
       "max       1.000000e+00     1.000000e+00  ...  1.238524e+04  1.358300e+04   \n",
       "\n",
       "                IAT        Number      Magnitue        Radius    Covariance  \\\n",
       "count  4.668658e+07  4.668658e+07  4.668658e+07  4.668658e+07  4.668658e+07   \n",
       "mean   8.318253e+07  9.498489e+00  1.312182e+01  4.709498e+01  3.072436e+04   \n",
       "std    1.704735e+07  8.191532e-01  8.628579e+00  2.267696e+02  3.237107e+05   \n",
       "min    0.000000e+00  1.000000e+00  9.165151e+00  0.000000e+00  0.000000e+00   \n",
       "25%    8.307157e+07  9.500000e+00  1.000000e+01  0.000000e+00  0.000000e+00   \n",
       "50%    8.312452e+07  9.500000e+00  1.039230e+01  0.000000e+00  0.000000e+00   \n",
       "75%    8.334391e+07  9.500000e+00  1.039671e+01  5.059213e-01  1.344216e+00   \n",
       "max    1.676394e+08  1.500000e+01  1.648211e+02  1.755127e+04  1.549022e+08   \n",
       "\n",
       "           Variance        Weight        attack  \n",
       "count  4.668658e+07  4.668658e+07  4.668658e+07  \n",
       "mean   9.643760e-02  1.415124e+02  9.764773e-01  \n",
       "std    2.330010e-01  2.106831e+01  1.515566e-01  \n",
       "min    0.000000e+00  1.000000e+00  0.000000e+00  \n",
       "25%    0.000000e+00  1.415500e+02  1.000000e+00  \n",
       "50%    0.000000e+00  1.415500e+02  1.000000e+00  \n",
       "75%    8.000000e-02  1.415500e+02  1.000000e+00  \n",
       "max    1.000000e+00  2.446000e+02  1.000000e+00  \n",
       "\n",
       "[8 rows x 47 columns]"
      ]
     },
     "execution_count": 9,
     "metadata": {},
     "output_type": "execute_result"
    }
   ],
   "source": [
    "dataset.describe()"
   ]
  },
  {
   "cell_type": "code",
   "execution_count": 10,
   "id": "c78c9876-b349-4721-a3c7-431d8d695645",
   "metadata": {},
   "outputs": [
    {
     "name": "stdout",
     "output_type": "stream",
     "text": [
      "<class 'pandas.core.frame.DataFrame'>\n",
      "RangeIndex: 46686579 entries, 0 to 46686578\n",
      "Data columns (total 47 columns):\n",
      " #   Column           Dtype  \n",
      "---  ------           -----  \n",
      " 0   flow_duration    float64\n",
      " 1   Header_Length    float64\n",
      " 2   Protocol Type    float64\n",
      " 3   Duration         float64\n",
      " 4   Rate             float64\n",
      " 5   Srate            float64\n",
      " 6   Drate            float64\n",
      " 7   fin_flag_number  float64\n",
      " 8   syn_flag_number  float64\n",
      " 9   rst_flag_number  float64\n",
      " 10  psh_flag_number  float64\n",
      " 11  ack_flag_number  float64\n",
      " 12  ece_flag_number  float64\n",
      " 13  cwr_flag_number  float64\n",
      " 14  ack_count        float64\n",
      " 15  syn_count        float64\n",
      " 16  fin_count        float64\n",
      " 17  urg_count        float64\n",
      " 18  rst_count        float64\n",
      " 19  HTTP             float64\n",
      " 20  HTTPS            float64\n",
      " 21  DNS              float64\n",
      " 22  Telnet           float64\n",
      " 23  SMTP             float64\n",
      " 24  SSH              float64\n",
      " 25  IRC              float64\n",
      " 26  TCP              float64\n",
      " 27  UDP              float64\n",
      " 28  DHCP             float64\n",
      " 29  ARP              float64\n",
      " 30  ICMP             float64\n",
      " 31  IPv              float64\n",
      " 32  LLC              float64\n",
      " 33  Tot sum          float64\n",
      " 34  Min              float64\n",
      " 35  Max              float64\n",
      " 36  AVG              float64\n",
      " 37  Std              float64\n",
      " 38  Tot size         float64\n",
      " 39  IAT              float64\n",
      " 40  Number           float64\n",
      " 41  Magnitue         float64\n",
      " 42  Radius           float64\n",
      " 43  Covariance       float64\n",
      " 44  Variance         float64\n",
      " 45  Weight           float64\n",
      " 46  attack           int64  \n",
      "dtypes: float64(46), int64(1)\n",
      "memory usage: 16.3 GB\n"
     ]
    }
   ],
   "source": [
    "dataset.info()"
   ]
  },
  {
   "cell_type": "code",
   "execution_count": 11,
   "id": "64ccf7e6",
   "metadata": {},
   "outputs": [
    {
     "data": {
      "text/plain": [
       "(46686579, 47)"
      ]
     },
     "execution_count": 11,
     "metadata": {},
     "output_type": "execute_result"
    }
   ],
   "source": [
    "dataset.shape"
   ]
  },
  {
   "cell_type": "markdown",
   "id": "700f199e-f46b-4955-aeb0-aadf3a33567b",
   "metadata": {},
   "source": [
    "# Data Preprocessing"
   ]
  },
  {
   "cell_type": "code",
   "execution_count": 12,
   "id": "eec5b96d-91c0-4d42-8ae6-46afaca6bc53",
   "metadata": {},
   "outputs": [
    {
     "data": {
      "text/plain": [
       "flow_duration      0\n",
       "Header_Length      0\n",
       "Protocol Type      0\n",
       "Duration           0\n",
       "Rate               0\n",
       "Srate              0\n",
       "Drate              0\n",
       "fin_flag_number    0\n",
       "syn_flag_number    0\n",
       "rst_flag_number    0\n",
       "psh_flag_number    0\n",
       "ack_flag_number    0\n",
       "ece_flag_number    0\n",
       "cwr_flag_number    0\n",
       "ack_count          0\n",
       "syn_count          0\n",
       "fin_count          0\n",
       "urg_count          0\n",
       "rst_count          0\n",
       "HTTP               0\n",
       "HTTPS              0\n",
       "DNS                0\n",
       "Telnet             0\n",
       "SMTP               0\n",
       "SSH                0\n",
       "IRC                0\n",
       "TCP                0\n",
       "UDP                0\n",
       "DHCP               0\n",
       "ARP                0\n",
       "ICMP               0\n",
       "IPv                0\n",
       "LLC                0\n",
       "Tot sum            0\n",
       "Min                0\n",
       "Max                0\n",
       "AVG                0\n",
       "Std                0\n",
       "Tot size           0\n",
       "IAT                0\n",
       "Number             0\n",
       "Magnitue           0\n",
       "Radius             0\n",
       "Covariance         0\n",
       "Variance           0\n",
       "Weight             0\n",
       "attack             0\n",
       "dtype: int64"
      ]
     },
     "execution_count": 12,
     "metadata": {},
     "output_type": "execute_result"
    }
   ],
   "source": [
    "dataset.isna().sum()"
   ]
  },
  {
   "cell_type": "code",
   "execution_count": 13,
   "id": "779d9e28-8754-4573-af4d-11c343d7dabf",
   "metadata": {},
   "outputs": [
    {
     "data": {
      "text/plain": [
       "0"
      ]
     },
     "execution_count": 13,
     "metadata": {},
     "output_type": "execute_result"
    }
   ],
   "source": [
    "dataset.drop_duplicates(subset=None, keep=\"first\", inplace=True)\n",
    "dataset.duplicated().sum()\n"
   ]
  },
  {
   "cell_type": "code",
   "execution_count": 14,
   "id": "95294355-c64b-4744-8348-50006c5831dd",
   "metadata": {},
   "outputs": [
    {
     "data": {
      "text/plain": [
       "attack\n",
       "1    45588350\n",
       "0     1098195\n",
       "Name: count, dtype: int64"
      ]
     },
     "execution_count": 14,
     "metadata": {},
     "output_type": "execute_result"
    }
   ],
   "source": [
    "dataset['attack'].value_counts()"
   ]
  },
  {
   "cell_type": "code",
   "execution_count": 15,
   "id": "97c2d855-c809-4e54-8ecc-26c94ec29dcf",
   "metadata": {},
   "outputs": [],
   "source": [
    "def encod(data):\n",
    "  n=data.shape[1]\n",
    "  from sklearn import preprocessing\n",
    "  label_encoder = preprocessing.LabelEncoder()\n",
    "  for i in range(n):\n",
    "      if data.iloc[:,i].dtype == 'object':\n",
    "        data.iloc[:,i]= label_encoder.fit_transform(data.iloc[:,i])\n",
    "  return data"
   ]
  },
  {
   "cell_type": "code",
   "execution_count": 16,
   "id": "4ebd4274-7188-4433-9897-83de50a855f0",
   "metadata": {},
   "outputs": [
    {
     "data": {
      "text/html": [
       "<div>\n",
       "<style scoped>\n",
       "    .dataframe tbody tr th:only-of-type {\n",
       "        vertical-align: middle;\n",
       "    }\n",
       "\n",
       "    .dataframe tbody tr th {\n",
       "        vertical-align: top;\n",
       "    }\n",
       "\n",
       "    .dataframe thead th {\n",
       "        text-align: right;\n",
       "    }\n",
       "</style>\n",
       "<table border=\"1\" class=\"dataframe\">\n",
       "  <thead>\n",
       "    <tr style=\"text-align: right;\">\n",
       "      <th></th>\n",
       "      <th>flow_duration</th>\n",
       "      <th>Header_Length</th>\n",
       "      <th>Protocol Type</th>\n",
       "      <th>Duration</th>\n",
       "      <th>Rate</th>\n",
       "      <th>Srate</th>\n",
       "      <th>Drate</th>\n",
       "      <th>fin_flag_number</th>\n",
       "      <th>syn_flag_number</th>\n",
       "      <th>rst_flag_number</th>\n",
       "      <th>...</th>\n",
       "      <th>Std</th>\n",
       "      <th>Tot size</th>\n",
       "      <th>IAT</th>\n",
       "      <th>Number</th>\n",
       "      <th>Magnitue</th>\n",
       "      <th>Radius</th>\n",
       "      <th>Covariance</th>\n",
       "      <th>Variance</th>\n",
       "      <th>Weight</th>\n",
       "      <th>attack</th>\n",
       "    </tr>\n",
       "  </thead>\n",
       "  <tbody>\n",
       "    <tr>\n",
       "      <th>0</th>\n",
       "      <td>4.392135</td>\n",
       "      <td>129.74</td>\n",
       "      <td>6.00</td>\n",
       "      <td>140.40</td>\n",
       "      <td>0.559296</td>\n",
       "      <td>0.559296</td>\n",
       "      <td>0.0</td>\n",
       "      <td>0.0</td>\n",
       "      <td>1.0</td>\n",
       "      <td>0.0</td>\n",
       "      <td>...</td>\n",
       "      <td>0.755748</td>\n",
       "      <td>54.80</td>\n",
       "      <td>8.298563e+07</td>\n",
       "      <td>9.5</td>\n",
       "      <td>10.476807</td>\n",
       "      <td>1.068711</td>\n",
       "      <td>1.503081</td>\n",
       "      <td>0.38</td>\n",
       "      <td>141.55</td>\n",
       "      <td>1</td>\n",
       "    </tr>\n",
       "    <tr>\n",
       "      <th>1</th>\n",
       "      <td>0.000000</td>\n",
       "      <td>53.46</td>\n",
       "      <td>5.94</td>\n",
       "      <td>63.36</td>\n",
       "      <td>1.267193</td>\n",
       "      <td>1.267193</td>\n",
       "      <td>0.0</td>\n",
       "      <td>1.0</td>\n",
       "      <td>0.0</td>\n",
       "      <td>1.0</td>\n",
       "      <td>...</td>\n",
       "      <td>0.040218</td>\n",
       "      <td>54.06</td>\n",
       "      <td>8.334421e+07</td>\n",
       "      <td>9.5</td>\n",
       "      <td>10.393232</td>\n",
       "      <td>0.057331</td>\n",
       "      <td>0.054789</td>\n",
       "      <td>0.03</td>\n",
       "      <td>141.55</td>\n",
       "      <td>1</td>\n",
       "    </tr>\n",
       "    <tr>\n",
       "      <th>2</th>\n",
       "      <td>1.103960</td>\n",
       "      <td>87.09</td>\n",
       "      <td>6.00</td>\n",
       "      <td>63.78</td>\n",
       "      <td>1.571309</td>\n",
       "      <td>1.571309</td>\n",
       "      <td>0.0</td>\n",
       "      <td>0.0</td>\n",
       "      <td>1.0</td>\n",
       "      <td>0.0</td>\n",
       "      <td>...</td>\n",
       "      <td>0.000000</td>\n",
       "      <td>54.00</td>\n",
       "      <td>8.336180e+07</td>\n",
       "      <td>9.5</td>\n",
       "      <td>10.392305</td>\n",
       "      <td>0.000000</td>\n",
       "      <td>0.000000</td>\n",
       "      <td>0.00</td>\n",
       "      <td>141.55</td>\n",
       "      <td>1</td>\n",
       "    </tr>\n",
       "    <tr>\n",
       "      <th>3</th>\n",
       "      <td>0.000000</td>\n",
       "      <td>0.00</td>\n",
       "      <td>1.00</td>\n",
       "      <td>64.00</td>\n",
       "      <td>3.877044</td>\n",
       "      <td>3.877044</td>\n",
       "      <td>0.0</td>\n",
       "      <td>0.0</td>\n",
       "      <td>0.0</td>\n",
       "      <td>0.0</td>\n",
       "      <td>...</td>\n",
       "      <td>0.000000</td>\n",
       "      <td>42.00</td>\n",
       "      <td>8.314963e+07</td>\n",
       "      <td>9.5</td>\n",
       "      <td>9.165151</td>\n",
       "      <td>0.000000</td>\n",
       "      <td>0.000000</td>\n",
       "      <td>0.00</td>\n",
       "      <td>141.55</td>\n",
       "      <td>1</td>\n",
       "    </tr>\n",
       "    <tr>\n",
       "      <th>4</th>\n",
       "      <td>0.000000</td>\n",
       "      <td>54.00</td>\n",
       "      <td>6.00</td>\n",
       "      <td>64.00</td>\n",
       "      <td>2.095570</td>\n",
       "      <td>2.095570</td>\n",
       "      <td>0.0</td>\n",
       "      <td>0.0</td>\n",
       "      <td>0.0</td>\n",
       "      <td>0.0</td>\n",
       "      <td>...</td>\n",
       "      <td>0.000000</td>\n",
       "      <td>54.00</td>\n",
       "      <td>8.331821e+07</td>\n",
       "      <td>9.5</td>\n",
       "      <td>10.392305</td>\n",
       "      <td>0.000000</td>\n",
       "      <td>0.000000</td>\n",
       "      <td>0.00</td>\n",
       "      <td>141.55</td>\n",
       "      <td>1</td>\n",
       "    </tr>\n",
       "    <tr>\n",
       "      <th>...</th>\n",
       "      <td>...</td>\n",
       "      <td>...</td>\n",
       "      <td>...</td>\n",
       "      <td>...</td>\n",
       "      <td>...</td>\n",
       "      <td>...</td>\n",
       "      <td>...</td>\n",
       "      <td>...</td>\n",
       "      <td>...</td>\n",
       "      <td>...</td>\n",
       "      <td>...</td>\n",
       "      <td>...</td>\n",
       "      <td>...</td>\n",
       "      <td>...</td>\n",
       "      <td>...</td>\n",
       "      <td>...</td>\n",
       "      <td>...</td>\n",
       "      <td>...</td>\n",
       "      <td>...</td>\n",
       "      <td>...</td>\n",
       "      <td>...</td>\n",
       "    </tr>\n",
       "    <tr>\n",
       "      <th>46686574</th>\n",
       "      <td>0.321089</td>\n",
       "      <td>27692.12</td>\n",
       "      <td>16.45</td>\n",
       "      <td>69.22</td>\n",
       "      <td>15900.657901</td>\n",
       "      <td>15900.657901</td>\n",
       "      <td>0.0</td>\n",
       "      <td>0.0</td>\n",
       "      <td>0.0</td>\n",
       "      <td>0.0</td>\n",
       "      <td>...</td>\n",
       "      <td>1.944637</td>\n",
       "      <td>51.35</td>\n",
       "      <td>8.301648e+07</td>\n",
       "      <td>9.5</td>\n",
       "      <td>10.076371</td>\n",
       "      <td>2.756421</td>\n",
       "      <td>38.180996</td>\n",
       "      <td>0.12</td>\n",
       "      <td>141.55</td>\n",
       "      <td>1</td>\n",
       "    </tr>\n",
       "    <tr>\n",
       "      <th>46686575</th>\n",
       "      <td>0.000000</td>\n",
       "      <td>0.00</td>\n",
       "      <td>1.00</td>\n",
       "      <td>64.00</td>\n",
       "      <td>29.622674</td>\n",
       "      <td>29.622674</td>\n",
       "      <td>0.0</td>\n",
       "      <td>0.0</td>\n",
       "      <td>0.0</td>\n",
       "      <td>0.0</td>\n",
       "      <td>...</td>\n",
       "      <td>0.000000</td>\n",
       "      <td>42.00</td>\n",
       "      <td>8.312799e+07</td>\n",
       "      <td>9.5</td>\n",
       "      <td>9.165151</td>\n",
       "      <td>0.000000</td>\n",
       "      <td>0.000000</td>\n",
       "      <td>0.00</td>\n",
       "      <td>141.55</td>\n",
       "      <td>1</td>\n",
       "    </tr>\n",
       "    <tr>\n",
       "      <th>46686576</th>\n",
       "      <td>0.000000</td>\n",
       "      <td>54.00</td>\n",
       "      <td>6.00</td>\n",
       "      <td>64.00</td>\n",
       "      <td>2.179378</td>\n",
       "      <td>2.179378</td>\n",
       "      <td>0.0</td>\n",
       "      <td>0.0</td>\n",
       "      <td>0.0</td>\n",
       "      <td>0.0</td>\n",
       "      <td>...</td>\n",
       "      <td>0.000000</td>\n",
       "      <td>54.00</td>\n",
       "      <td>8.331451e+07</td>\n",
       "      <td>9.5</td>\n",
       "      <td>10.392305</td>\n",
       "      <td>0.000000</td>\n",
       "      <td>0.000000</td>\n",
       "      <td>0.00</td>\n",
       "      <td>141.55</td>\n",
       "      <td>1</td>\n",
       "    </tr>\n",
       "    <tr>\n",
       "      <th>46686577</th>\n",
       "      <td>0.170920</td>\n",
       "      <td>29381.00</td>\n",
       "      <td>17.00</td>\n",
       "      <td>64.00</td>\n",
       "      <td>4314.353282</td>\n",
       "      <td>4314.353282</td>\n",
       "      <td>0.0</td>\n",
       "      <td>0.0</td>\n",
       "      <td>0.0</td>\n",
       "      <td>0.0</td>\n",
       "      <td>...</td>\n",
       "      <td>0.000000</td>\n",
       "      <td>50.00</td>\n",
       "      <td>8.312383e+07</td>\n",
       "      <td>9.5</td>\n",
       "      <td>10.000000</td>\n",
       "      <td>0.000000</td>\n",
       "      <td>0.000000</td>\n",
       "      <td>0.00</td>\n",
       "      <td>141.55</td>\n",
       "      <td>1</td>\n",
       "    </tr>\n",
       "    <tr>\n",
       "      <th>46686578</th>\n",
       "      <td>0.000000</td>\n",
       "      <td>0.00</td>\n",
       "      <td>47.00</td>\n",
       "      <td>64.00</td>\n",
       "      <td>24.230386</td>\n",
       "      <td>24.230386</td>\n",
       "      <td>0.0</td>\n",
       "      <td>0.0</td>\n",
       "      <td>0.0</td>\n",
       "      <td>0.0</td>\n",
       "      <td>...</td>\n",
       "      <td>0.000000</td>\n",
       "      <td>592.00</td>\n",
       "      <td>8.369406e+07</td>\n",
       "      <td>9.5</td>\n",
       "      <td>34.409301</td>\n",
       "      <td>0.000000</td>\n",
       "      <td>0.000000</td>\n",
       "      <td>0.00</td>\n",
       "      <td>141.55</td>\n",
       "      <td>1</td>\n",
       "    </tr>\n",
       "  </tbody>\n",
       "</table>\n",
       "<p>46686545 rows × 47 columns</p>\n",
       "</div>"
      ],
      "text/plain": [
       "          flow_duration  Header_Length  Protocol Type  Duration          Rate  \\\n",
       "0              4.392135         129.74           6.00    140.40      0.559296   \n",
       "1              0.000000          53.46           5.94     63.36      1.267193   \n",
       "2              1.103960          87.09           6.00     63.78      1.571309   \n",
       "3              0.000000           0.00           1.00     64.00      3.877044   \n",
       "4              0.000000          54.00           6.00     64.00      2.095570   \n",
       "...                 ...            ...            ...       ...           ...   \n",
       "46686574       0.321089       27692.12          16.45     69.22  15900.657901   \n",
       "46686575       0.000000           0.00           1.00     64.00     29.622674   \n",
       "46686576       0.000000          54.00           6.00     64.00      2.179378   \n",
       "46686577       0.170920       29381.00          17.00     64.00   4314.353282   \n",
       "46686578       0.000000           0.00          47.00     64.00     24.230386   \n",
       "\n",
       "                 Srate  Drate  fin_flag_number  syn_flag_number  \\\n",
       "0             0.559296    0.0              0.0              1.0   \n",
       "1             1.267193    0.0              1.0              0.0   \n",
       "2             1.571309    0.0              0.0              1.0   \n",
       "3             3.877044    0.0              0.0              0.0   \n",
       "4             2.095570    0.0              0.0              0.0   \n",
       "...                ...    ...              ...              ...   \n",
       "46686574  15900.657901    0.0              0.0              0.0   \n",
       "46686575     29.622674    0.0              0.0              0.0   \n",
       "46686576      2.179378    0.0              0.0              0.0   \n",
       "46686577   4314.353282    0.0              0.0              0.0   \n",
       "46686578     24.230386    0.0              0.0              0.0   \n",
       "\n",
       "          rst_flag_number  ...       Std  Tot size           IAT  Number  \\\n",
       "0                     0.0  ...  0.755748     54.80  8.298563e+07     9.5   \n",
       "1                     1.0  ...  0.040218     54.06  8.334421e+07     9.5   \n",
       "2                     0.0  ...  0.000000     54.00  8.336180e+07     9.5   \n",
       "3                     0.0  ...  0.000000     42.00  8.314963e+07     9.5   \n",
       "4                     0.0  ...  0.000000     54.00  8.331821e+07     9.5   \n",
       "...                   ...  ...       ...       ...           ...     ...   \n",
       "46686574              0.0  ...  1.944637     51.35  8.301648e+07     9.5   \n",
       "46686575              0.0  ...  0.000000     42.00  8.312799e+07     9.5   \n",
       "46686576              0.0  ...  0.000000     54.00  8.331451e+07     9.5   \n",
       "46686577              0.0  ...  0.000000     50.00  8.312383e+07     9.5   \n",
       "46686578              0.0  ...  0.000000    592.00  8.369406e+07     9.5   \n",
       "\n",
       "           Magnitue    Radius  Covariance  Variance  Weight  attack  \n",
       "0         10.476807  1.068711    1.503081      0.38  141.55       1  \n",
       "1         10.393232  0.057331    0.054789      0.03  141.55       1  \n",
       "2         10.392305  0.000000    0.000000      0.00  141.55       1  \n",
       "3          9.165151  0.000000    0.000000      0.00  141.55       1  \n",
       "4         10.392305  0.000000    0.000000      0.00  141.55       1  \n",
       "...             ...       ...         ...       ...     ...     ...  \n",
       "46686574  10.076371  2.756421   38.180996      0.12  141.55       1  \n",
       "46686575   9.165151  0.000000    0.000000      0.00  141.55       1  \n",
       "46686576  10.392305  0.000000    0.000000      0.00  141.55       1  \n",
       "46686577  10.000000  0.000000    0.000000      0.00  141.55       1  \n",
       "46686578  34.409301  0.000000    0.000000      0.00  141.55       1  \n",
       "\n",
       "[46686545 rows x 47 columns]"
      ]
     },
     "execution_count": 16,
     "metadata": {},
     "output_type": "execute_result"
    }
   ],
   "source": [
    "# Label encoding\n",
    "dataset=encod(dataset)\n",
    "dataset"
   ]
  },
  {
   "cell_type": "code",
   "execution_count": 17,
   "id": "103b9cc4-3f17-430d-af9e-596ac02b6220",
   "metadata": {},
   "outputs": [
    {
     "data": {
      "text/plain": [
       "array([1, 0], dtype=int64)"
      ]
     },
     "execution_count": 17,
     "metadata": {},
     "output_type": "execute_result"
    }
   ],
   "source": [
    "dataset.attack.unique()"
   ]
  },
  {
   "cell_type": "code",
   "execution_count": 18,
   "id": "4d50c96f-37e6-4e7e-9010-a584c8aa2a47",
   "metadata": {},
   "outputs": [],
   "source": [
    "X=dataset.drop(['attack'],axis=1)\n",
    "y=dataset['attack']\n",
    "dataset=0"
   ]
  },
  {
   "cell_type": "code",
   "execution_count": 21,
   "id": "40065747-bd37-437f-9676-fba3480c1011",
   "metadata": {},
   "outputs": [],
   "source": [
    "from imblearn.under_sampling import RandomUnderSampler\n",
    "rus = RandomUnderSampler(random_state=0)\n",
    "X_sm, y_sm  = rus.fit_resample(X, y)\n",
    "y_sm = pd.Series(y_sm)"
   ]
  },
  {
   "cell_type": "code",
   "execution_count": null,
   "id": "365f7670-c6d8-4885-90b2-6301d5fd93cb",
   "metadata": {},
   "outputs": [],
   "source": [
    "from imblearn.over_sampling import SMOTE\n",
    "smote = SMOTE(random_state=42)\n",
    "X_sm, y_sm = smote.fit_resample(X, y)\n",
    "y_sm = pd.Series(y_sm)"
   ]
  },
  {
   "cell_type": "code",
   "execution_count": 22,
   "id": "e684fb4e-d07e-43c5-aaca-fa3cf5d90cc6",
   "metadata": {},
   "outputs": [
    {
     "data": {
      "text/plain": [
       "attack\n",
       "0    1098195\n",
       "1    1098195\n",
       "Name: count, dtype: int64"
      ]
     },
     "execution_count": 22,
     "metadata": {},
     "output_type": "execute_result"
    }
   ],
   "source": [
    "pd.Series(y_sm).value_counts()"
   ]
  },
  {
   "cell_type": "code",
   "execution_count": 23,
   "id": "b2d678e5-0733-4ea4-83af-842dfc4c4148",
   "metadata": {},
   "outputs": [],
   "source": [
    "X_train, X_test, y_train, y_test = train_test_split(X_sm, y_sm, test_size=0.2, random_state=42)\n",
    "#X_train, X_val, y_train, y_val = train_test_split(X_train, y_train, test_size= 0.2, random_state=42)"
   ]
  },
  {
   "cell_type": "code",
   "execution_count": 24,
   "id": "728e7f00-a7bb-4d13-a6c0-46d490695f20",
   "metadata": {},
   "outputs": [],
   "source": [
    "X=0\n",
    "y=0\n",
    "X_sm=0\n",
    "y_sm=0"
   ]
  },
  {
   "cell_type": "code",
   "execution_count": 25,
   "id": "4a770cf2-3e42-4032-97e1-7db6d63be4bf",
   "metadata": {},
   "outputs": [],
   "source": [
    "from sklearn.preprocessing import MinMaxScaler\n",
    "scaler = MinMaxScaler()\n",
    "X_train = scaler.fit_transform(X_train)\n",
    "X_test = scaler.transform(X_test)\n"
   ]
  },
  {
   "cell_type": "code",
   "execution_count": 26,
   "id": "018f95a5-c68c-4326-9817-468689abbd08",
   "metadata": {},
   "outputs": [
    {
     "data": {
      "text/plain": [
       "(1757112, 46)"
      ]
     },
     "execution_count": 26,
     "metadata": {},
     "output_type": "execute_result"
    }
   ],
   "source": [
    "X_train.shape"
   ]
  },
  {
   "cell_type": "markdown",
   "id": "16cbd1d2-a1b2-4c0d-95cd-fa64862e4a95",
   "metadata": {},
   "source": [
    "# Vanilla Autoencoder Model"
   ]
  },
  {
   "cell_type": "code",
   "execution_count": 27,
   "id": "4f27ed38-9c76-4f53-9f69-e3a51bb815d7",
   "metadata": {},
   "outputs": [],
   "source": [
    "\n",
    "import os\n",
    "os.environ[\"CUDA_VISIBLE_DEVICES\"] = \"-1\"  # Disable GPU\n",
    "\n",
    "\n",
    "\n",
    "# Now any TensorFlow operation will run on the CPU\n",
    "import tensorflow as tf\n",
    "\n",
    "gpus = tf.config.experimental.list_physical_devices('GPU')\n",
    "if gpus:\n",
    "    try:\n",
    "        for gpu in gpus:\n",
    "            tf.config.experimental.set_memory_growth(gpu, True)\n",
    "    except RuntimeError as e:\n",
    "        print(e)\n",
    "\n",
    "\n",
    "\n",
    "from keras.layers import Dense, Dropout, Activation"
   ]
  },
  {
   "cell_type": "code",
   "execution_count": 28,
   "id": "3c014d51-6952-4816-b46c-141d4c2cad03",
   "metadata": {},
   "outputs": [],
   "source": [
    "input_dim = X_train.shape[1]"
   ]
  },
  {
   "cell_type": "code",
   "execution_count": 29,
   "id": "d2b50f6e-38c6-4b43-9d3d-113a332e0d94",
   "metadata": {},
   "outputs": [],
   "source": [
    "input_vanilla = tf.keras.Input(shape=(input_dim,), name='input_vanilla')\n",
    "encoded_vanilla = Dense(128, activation='relu', name='encode1_vanilla')(input_vanilla)\n",
    "encoded_vanilla = Dense(64, activation='relu', name='encode2_vanilla')(encoded_vanilla)\n",
    "encoded_vanilla = Dense(32, activation='relu', name='latent_vanilla')(encoded_vanilla)\n",
    "\n",
    "decoded_vanilla = Dense(64, activation='relu', name='decode1_vanilla')(encoded_vanilla)\n",
    "decoded_vanilla = Dense(128, activation='relu', name='decode2_vanilla')(decoded_vanilla)\n",
    "output_vanilla = Dense(input_dim, activation='sigmoid', name='output_vanilla')(decoded_vanilla)\n",
    "\n"
   ]
  },
  {
   "cell_type": "code",
   "execution_count": 30,
   "id": "8a75004e-4c65-4a9a-a87e-43014681f4d0",
   "metadata": {},
   "outputs": [
    {
     "name": "stdout",
     "output_type": "stream",
     "text": [
      "Model: \"model\"\n",
      "_________________________________________________________________\n",
      " Layer (type)                Output Shape              Param #   \n",
      "=================================================================\n",
      " input_vanilla (InputLayer)  [(None, 46)]              0         \n",
      "                                                                 \n",
      " encode1_vanilla (Dense)     (None, 128)               6016      \n",
      "                                                                 \n",
      " encode2_vanilla (Dense)     (None, 64)                8256      \n",
      "                                                                 \n",
      " latent_vanilla (Dense)      (None, 32)                2080      \n",
      "                                                                 \n",
      " decode1_vanilla (Dense)     (None, 64)                2112      \n",
      "                                                                 \n",
      " decode2_vanilla (Dense)     (None, 128)               8320      \n",
      "                                                                 \n",
      " output_vanilla (Dense)      (None, 46)                5934      \n",
      "                                                                 \n",
      "=================================================================\n",
      "Total params: 32,718\n",
      "Trainable params: 32,718\n",
      "Non-trainable params: 0\n",
      "_________________________________________________________________\n"
     ]
    }
   ],
   "source": [
    "vanilla = tf.keras.Model(input_vanilla, output_vanilla)\n",
    "\n",
    "vanilla.summary()\n"
   ]
  },
  {
   "cell_type": "code",
   "execution_count": 31,
   "id": "0543d3c6-28de-4697-bb75-9fbc6535faaf",
   "metadata": {},
   "outputs": [],
   "source": [
    "vanilla.compile(optimizer='adam', loss='mean_squared_error')"
   ]
  },
  {
   "cell_type": "code",
   "execution_count": 32,
   "id": "b263f8dd-a474-421b-a490-d2d9ea47b627",
   "metadata": {
    "scrolled": true
   },
   "outputs": [
    {
     "name": "stdout",
     "output_type": "stream",
     "text": [
      "Epoch 1/100\n",
      "54910/54910 [==============================] - 159s 3ms/step - loss: 5.7737e-04\n",
      "Epoch 2/100\n",
      "54910/54910 [==============================] - 164s 3ms/step - loss: 6.0147e-05\n",
      "Epoch 3/100\n",
      "54910/54910 [==============================] - 169s 3ms/step - loss: 5.3264e-05\n",
      "Epoch 4/100\n",
      "54910/54910 [==============================] - 170s 3ms/step - loss: 4.8929e-05\n",
      "Epoch 5/100\n",
      "54910/54910 [==============================] - 166s 3ms/step - loss: 4.7969e-05\n",
      "Epoch 6/100\n",
      "54910/54910 [==============================] - 165s 3ms/step - loss: 1.7788e-05\n",
      "Epoch 7/100\n",
      "54910/54910 [==============================] - 169s 3ms/step - loss: 1.6248e-05\n",
      "Epoch 8/100\n",
      "54910/54910 [==============================] - 168s 3ms/step - loss: 1.5935e-05\n",
      "Epoch 9/100\n",
      "54910/54910 [==============================] - 169s 3ms/step - loss: 1.7505e-05\n",
      "Epoch 10/100\n",
      "54910/54910 [==============================] - 166s 3ms/step - loss: 1.4612e-05\n",
      "Epoch 11/100\n",
      "54910/54910 [==============================] - 169s 3ms/step - loss: 1.5707e-05\n",
      "Epoch 12/100\n",
      "54910/54910 [==============================] - 147s 3ms/step - loss: 2.0249e-05\n",
      "Epoch 13/100\n",
      "54910/54910 [==============================] - 155s 3ms/step - loss: 1.3258e-05\n",
      "Epoch 14/100\n",
      "54910/54910 [==============================] - 155s 3ms/step - loss: 1.3850e-05\n",
      "Epoch 15/100\n",
      "54910/54910 [==============================] - 162s 3ms/step - loss: 1.3447e-05\n",
      "Epoch 16/100\n",
      "54910/54910 [==============================] - 167s 3ms/step - loss: 1.3873e-05\n",
      "Epoch 17/100\n",
      "54910/54910 [==============================] - 165s 3ms/step - loss: 1.3748e-05\n",
      "Epoch 18/100\n",
      "54910/54910 [==============================] - 157s 3ms/step - loss: 1.7258e-05\n",
      "Epoch 19/100\n",
      "54910/54910 [==============================] - 156s 3ms/step - loss: 1.8519e-05\n",
      "Number of epochs run: 19\n"
     ]
    }
   ],
   "source": [
    "#EarlyStopping callback\n",
    "early_stopping_callback= keras.callbacks.EarlyStopping(monitor='loss',patience=6,baseline=None,restore_best_weights=True)\n",
    "\n",
    "# model_checkpoint_callback\n",
    "checkpoint_filepath = 'vanillamodel_CICIoT2023_smote.keras'\n",
    "model_checkpoint_callback = keras.callbacks.ModelCheckpoint(filepath=checkpoint_filepath,monitor='loss',mode='min',save_best_only=True)\n",
    "\n",
    "callbacks = [early_stopping_callback, model_checkpoint_callback]\n",
    "#train with both callbacks\n",
    "history=vanilla.fit(X_train, X_train,epochs=100,batch_size=32, callbacks=[callbacks],verbose=1)\n",
    "\n",
    "print(\"Number of epochs run:\", len(history.history['loss']))\n",
    "\n"
   ]
  },
  {
   "cell_type": "code",
   "execution_count": null,
   "id": "d92e3fe5-0c74-4ad9-b850-e34e48e6d6e2",
   "metadata": {},
   "outputs": [],
   "source": [
    "# model_checkpoint_callback\n",
    "# checkpoint_filepath = 'vaAEmodel.keras'\n",
    "# #EarlyStopping callback\n",
    "# vanilla_autoencoder = keras.models.load_model(checkpoint_filepath)\n",
    "# early_stopping_callback= keras.callbacks.EarlyStopping(monitor='loss',patience=4,baseline=None,restore_best_weights=False,)\n",
    "\n",
    "\n",
    "# model_checkpoint_callback = keras.callbacks.ModelCheckpoint(filepath=checkpoint_filepath,monitor='loss',mode='min',save_best_only=True)\n",
    "\n",
    "\n",
    "# callbacks = [early_stopping_callback, model_checkpoint_callback]\n",
    "# #train with both callbacks\n",
    "# history=vanilla.fit(X_train, X_train,epochs=50,batch_size=32, callbacks=[callbacks],verbose=1,initial_epoch=30)\n",
    "\n",
    "# print(\"Number of epochs run:\", len(history.history['loss']))\n",
    "\n"
   ]
  },
  {
   "cell_type": "code",
   "execution_count": 33,
   "id": "a734d41c-89e8-4f57-9a47-66a2572b5676",
   "metadata": {},
   "outputs": [
    {
     "name": "stdout",
     "output_type": "stream",
     "text": [
      "13728/13728 [==============================] - 21s 1ms/step - loss: 8.1237e-06\n"
     ]
    },
    {
     "data": {
      "text/plain": [
       "8.123677616822533e-06"
      ]
     },
     "execution_count": 33,
     "metadata": {},
     "output_type": "execute_result"
    }
   ],
   "source": [
    "vanilla.evaluate(X_test,X_test)"
   ]
  },
  {
   "cell_type": "code",
   "execution_count": 34,
   "id": "724e8d4b-0c7e-4b1d-89e4-2ca0ce44e5d7",
   "metadata": {},
   "outputs": [
    {
     "name": "stdout",
     "output_type": "stream",
     "text": [
      "Model: \"model\"\n",
      "_________________________________________________________________\n",
      " Layer (type)                Output Shape              Param #   \n",
      "=================================================================\n",
      " input_vanilla (InputLayer)  [(None, 46)]              0         \n",
      "                                                                 \n",
      " encode1_vanilla (Dense)     (None, 128)               6016      \n",
      "                                                                 \n",
      " encode2_vanilla (Dense)     (None, 64)                8256      \n",
      "                                                                 \n",
      " latent_vanilla (Dense)      (None, 32)                2080      \n",
      "                                                                 \n",
      " decode1_vanilla (Dense)     (None, 64)                2112      \n",
      "                                                                 \n",
      " decode2_vanilla (Dense)     (None, 128)               8320      \n",
      "                                                                 \n",
      " output_vanilla (Dense)      (None, 46)                5934      \n",
      "                                                                 \n",
      "=================================================================\n",
      "Total params: 32,718\n",
      "Trainable params: 0\n",
      "Non-trainable params: 32,718\n",
      "_________________________________________________________________\n"
     ]
    }
   ],
   "source": [
    "#checkpoint_filepath = 'vanillamodel_NBaIoT.keras'\n",
    "#vanilla = keras.models.load_model(checkpoint_filepath)\n",
    "for layer in vanilla.layers:\n",
    "    layer.trainable =False\n",
    "\n",
    "vanilla.summary()"
   ]
  },
  {
   "cell_type": "markdown",
   "id": "b36d069b-9b8c-407d-a6cc-ab054bdf2623",
   "metadata": {},
   "source": [
    "# Variational Autoencoder Model"
   ]
  },
  {
   "cell_type": "code",
   "execution_count": 35,
   "id": "60e3de29-0368-4d73-8c1b-fea68c44e1ad",
   "metadata": {},
   "outputs": [],
   "source": [
    "from tensorflow.keras import backend as K\n",
    "from tensorflow.keras.layers import Lambda, Concatenate\n",
    "from tensorflow.keras.losses import mse\n",
    "\n",
    "from keras import layers"
   ]
  },
  {
   "cell_type": "code",
   "execution_count": 36,
   "id": "c63a5243-f4af-405a-8f52-5994b70807d7",
   "metadata": {},
   "outputs": [],
   "source": [
    "# this sampling layer is the bottleneck layer of variational autoencoder,\n",
    "# it uses the output from two dense layers z_mean and z_log_var as input, \n",
    "# convert them into normal distribution and pass them to the decoder layer\n",
    "\n",
    "class Sampling(layers.Layer):\n",
    "\t\"\"\"Uses (mean, log_var) to sample z, the vector encoding a digit.\"\"\"\n",
    "\n",
    "\tdef call(self, inputs):\n",
    "\t\tmean, log_var = inputs\n",
    "\t\tbatch = tf.shape(mean)[0]\n",
    "\t\tdim = tf.shape(mean)[1]\n",
    "\t\tepsilon = tf.random.normal(shape=(batch, dim))\n",
    "\t\treturn mean + tf.exp(0.5 * log_var) * epsilon\n"
   ]
  },
  {
   "cell_type": "code",
   "execution_count": 37,
   "id": "b07c4cca-936d-4037-9897-991611670f40",
   "metadata": {},
   "outputs": [
    {
     "name": "stdout",
     "output_type": "stream",
     "text": [
      "Model: \"encoder\"\n",
      "__________________________________________________________________________________________________\n",
      " Layer (type)                   Output Shape         Param #     Connected to                     \n",
      "==================================================================================================\n",
      " encoder_input (InputLayer)     [(None, 46)]         0           []                               \n",
      "                                                                                                  \n",
      " encoder1 (Dense)               (None, 128)          6016        ['encoder_input[0][0]']          \n",
      "                                                                                                  \n",
      " enocder2 (Dense)               (None, 64)           8256        ['encoder1[0][0]']               \n",
      "                                                                                                  \n",
      " encoder_latent_vae (Dense)     (None, 32)           2080        ['enocder2[0][0]']               \n",
      "                                                                                                  \n",
      " mean (Dense)                   (None, 16)           528         ['encoder_latent_vae[0][0]']     \n",
      "                                                                                                  \n",
      " log_var (Dense)                (None, 16)           528         ['encoder_latent_vae[0][0]']     \n",
      "                                                                                                  \n",
      " sampling (Sampling)            (None, 16)           0           ['mean[0][0]',                   \n",
      "                                                                  'log_var[0][0]']                \n",
      "                                                                                                  \n",
      "==================================================================================================\n",
      "Total params: 17,408\n",
      "Trainable params: 17,408\n",
      "Non-trainable params: 0\n",
      "__________________________________________________________________________________________________\n"
     ]
    }
   ],
   "source": [
    "latent_dim = 16\n",
    "#encoder\n",
    "encoder_inputs = keras.Input(shape=(input_dim,),name='encoder_input')\n",
    "x = layers.Dense(128, activation=\"relu\",name=\"encoder1\")(encoder_inputs)\n",
    "x = layers.Dense(64, activation=\"relu\",name=\"enocder2\")(x)\n",
    "x = layers.Dense(32, activation=\"relu\",name=\"encoder_latent_vae\")(x)\n",
    "mean = layers.Dense(latent_dim, name=\"mean\")(x)\n",
    "log_var = layers.Dense(latent_dim, name=\"log_var\")(x)\n",
    "z = Sampling()([mean, log_var])\n",
    "\n",
    "encoder = keras.Model(encoder_inputs, [mean, log_var, z], name=\"encoder\")\n",
    "encoder.summary()\n",
    "\n"
   ]
  },
  {
   "cell_type": "code",
   "execution_count": 38,
   "id": "9a43f807-969d-4b49-9b40-85dfea08b6e9",
   "metadata": {},
   "outputs": [
    {
     "name": "stdout",
     "output_type": "stream",
     "text": [
      "Model: \"decoder\"\n",
      "_________________________________________________________________\n",
      " Layer (type)                Output Shape              Param #   \n",
      "=================================================================\n",
      " decoder_input (InputLayer)  [(None, 16)]              0         \n",
      "                                                                 \n",
      " decoder1_vae (Dense)        (None, 32)                544       \n",
      "                                                                 \n",
      " decoder2_vae (Dense)        (None, 64)                2112      \n",
      "                                                                 \n",
      " decoder3_vae (Dense)        (None, 128)               8320      \n",
      "                                                                 \n",
      " decoder_output (Dense)      (None, 46)                5934      \n",
      "                                                                 \n",
      "=================================================================\n",
      "Total params: 16,910\n",
      "Trainable params: 16,910\n",
      "Non-trainable params: 0\n",
      "_________________________________________________________________\n"
     ]
    }
   ],
   "source": [
    "#decoder\n",
    "\n",
    "latent_inputs = keras.Input(shape=(latent_dim,),name='decoder_input')\n",
    "x = layers.Dense(32, activation=\"relu\",name=\"decoder1_vae\")(latent_inputs)\n",
    "x = layers.Dense(64, activation=\"relu\", name=\"decoder2_vae\")(x)\n",
    "x = layers.Dense(128, activation=\"relu\", name=\"decoder3_vae\")(x)\n",
    "decoder_outputs = layers.Dense(input_dim, activation=\"sigmoid\", name='decoder_output')(x)\n",
    "\n",
    "decoder = keras.Model(latent_inputs, decoder_outputs, name=\"decoder\")\n",
    "decoder.summary()\n"
   ]
  },
  {
   "cell_type": "code",
   "execution_count": 39,
   "id": "ccb750a9-c532-489d-ab88-abe6455c2162",
   "metadata": {},
   "outputs": [],
   "source": [
    "import tensorflow as tf\n",
    "from tensorflow.keras.losses import MeanSquaredError\n",
    "# for training a defining and training a VAE model\n",
    "class VAE(tf.keras.Model):\n",
    "    def __init__(self, encoder, decoder, **kwargs):\n",
    "        super(VAE, self).__init__(**kwargs)\n",
    "        self.encoder = encoder\n",
    "        self.decoder = decoder\n",
    "        self.total_loss_tracker = tf.keras.metrics.Mean(name=\"total_loss\")\n",
    "        self.reconstruction_loss_tracker = tf.keras.metrics.Mean(name=\"reconstruction_loss\")\n",
    "        self.kl_loss_tracker = tf.keras.metrics.Mean(name=\"kl_loss\")\n",
    "        self.optimizer = tf.keras.optimizers.Adam()\n",
    "\n",
    "    def train_step(self, data):\n",
    "        data = tf.convert_to_tensor(data)\n",
    "        with tf.GradientTape() as tape:\n",
    "            mean, log_var, z = self.encoder(data)\n",
    "            reconstruction = self.decoder(z)\n",
    "\n",
    "            reconstruction_loss = tf.reduce_mean(MeanSquaredError()(data, reconstruction)) * data.shape[1]\n",
    "            \n",
    "            kl_loss = -0.5 * tf.reduce_sum(1 + log_var - tf.square(mean) - tf.exp(log_var), axis=-1)\n",
    "            kl_loss = tf.reduce_mean(kl_loss)\n",
    "            total_loss = reconstruction_loss + kl_loss\n",
    "\n",
    "        grads = tape.gradient(total_loss, self.trainable_weights)\n",
    "        self.optimizer.apply_gradients(zip(grads, self.trainable_weights))\n",
    "        self.total_loss_tracker.update_state(total_loss)\n",
    "        self.reconstruction_loss_tracker.update_state(reconstruction_loss)\n",
    "        self.kl_loss_tracker.update_state(kl_loss)\n",
    "\n",
    "        return {\n",
    "            \"loss\": self.total_loss_tracker.result(),\n",
    "            \"reconstruction_loss\": self.reconstruction_loss_tracker.result(),\n",
    "            \"kl_loss\": self.kl_loss_tracker.result(),\n",
    "        }\n",
    "\n",
    "    @property\n",
    "    def metrics(self):\n",
    "        return [self.total_loss_tracker, self.reconstruction_loss_tracker, self.kl_loss_tracker]\n",
    "\n"
   ]
  },
  {
   "cell_type": "code",
   "execution_count": 40,
   "id": "a08bf7e6-61f2-4416-90fe-12206cb82480",
   "metadata": {},
   "outputs": [],
   "source": [
    "#instance of the VAE model\n",
    "vae = VAE(encoder, decoder)\n",
    "vae.compile(optimizer=vae.optimizer)\n",
    "#vae.summary()"
   ]
  },
  {
   "cell_type": "code",
   "execution_count": 41,
   "id": "d5b80218-2910-4f69-992b-469a509a2482",
   "metadata": {},
   "outputs": [
    {
     "name": "stdout",
     "output_type": "stream",
     "text": [
      "Model: \"encoder\"\n",
      "__________________________________________________________________________________________________\n",
      " Layer (type)                   Output Shape         Param #     Connected to                     \n",
      "==================================================================================================\n",
      " encoder_input (InputLayer)     [(None, 46)]         0           []                               \n",
      "                                                                                                  \n",
      " encoder1 (Dense)               (None, 128)          6016        ['encoder_input[0][0]']          \n",
      "                                                                                                  \n",
      " enocder2 (Dense)               (None, 64)           8256        ['encoder1[0][0]']               \n",
      "                                                                                                  \n",
      " encoder_latent_vae (Dense)     (None, 32)           2080        ['enocder2[0][0]']               \n",
      "                                                                                                  \n",
      " mean (Dense)                   (None, 16)           528         ['encoder_latent_vae[0][0]']     \n",
      "                                                                                                  \n",
      " log_var (Dense)                (None, 16)           528         ['encoder_latent_vae[0][0]']     \n",
      "                                                                                                  \n",
      " sampling (Sampling)            (None, 16)           0           ['mean[0][0]',                   \n",
      "                                                                  'log_var[0][0]']                \n",
      "                                                                                                  \n",
      "==================================================================================================\n",
      "Total params: 17,408\n",
      "Trainable params: 17,408\n",
      "Non-trainable params: 0\n",
      "__________________________________________________________________________________________________\n",
      "Model: \"decoder\"\n",
      "_________________________________________________________________\n",
      " Layer (type)                Output Shape              Param #   \n",
      "=================================================================\n",
      " decoder_input (InputLayer)  [(None, 16)]              0         \n",
      "                                                                 \n",
      " decoder1_vae (Dense)        (None, 32)                544       \n",
      "                                                                 \n",
      " decoder2_vae (Dense)        (None, 64)                2112      \n",
      "                                                                 \n",
      " decoder3_vae (Dense)        (None, 128)               8320      \n",
      "                                                                 \n",
      " decoder_output (Dense)      (None, 46)                5934      \n",
      "                                                                 \n",
      "=================================================================\n",
      "Total params: 16,910\n",
      "Trainable params: 16,910\n",
      "Non-trainable params: 0\n",
      "_________________________________________________________________\n"
     ]
    },
    {
     "data": {
      "text/plain": [
       "(None, None)"
      ]
     },
     "execution_count": 41,
     "metadata": {},
     "output_type": "execute_result"
    }
   ],
   "source": [
    "vae.encoder.summary(),vae.decoder.summary()"
   ]
  },
  {
   "cell_type": "code",
   "execution_count": 42,
   "id": "1a4d363a-b3dd-405a-a7da-9e39ae2b4f26",
   "metadata": {
    "scrolled": true
   },
   "outputs": [
    {
     "name": "stdout",
     "output_type": "stream",
     "text": [
      "Epoch 1/100\n",
      "54910/54910 [==============================] - 173s 3ms/step - loss: 1.7339 - reconstruction_loss: 1.5120 - kl_loss: 0.1911\n",
      "Epoch 2/100\n",
      "54910/54910 [==============================] - 176s 3ms/step - loss: 1.6945 - reconstruction_loss: 1.4776 - kl_loss: 0.2162\n",
      "Epoch 3/100\n",
      "54910/54910 [==============================] - 180s 3ms/step - loss: 1.6935 - reconstruction_loss: 1.4763 - kl_loss: 0.2179\n",
      "Epoch 4/100\n",
      "54910/54910 [==============================] - 181s 3ms/step - loss: 1.6924 - reconstruction_loss: 1.4744 - kl_loss: 0.2183\n",
      "Epoch 5/100\n",
      "54910/54910 [==============================] - 179s 3ms/step - loss: 1.6929 - reconstruction_loss: 1.4740 - kl_loss: 0.2190\n",
      "Epoch 6/100\n",
      "54910/54910 [==============================] - 180s 3ms/step - loss: 1.6943 - reconstruction_loss: 1.4746 - kl_loss: 0.2193\n",
      "Epoch 7/100\n",
      "54910/54910 [==============================] - 179s 3ms/step - loss: 1.6936 - reconstruction_loss: 1.4742 - kl_loss: 0.2189\n",
      "Epoch 8/100\n",
      "54910/54910 [==============================] - 178s 3ms/step - loss: 1.6928 - reconstruction_loss: 1.4736 - kl_loss: 0.2195\n",
      "Epoch 9/100\n",
      "54910/54910 [==============================] - 178s 3ms/step - loss: 1.6936 - reconstruction_loss: 1.4722 - kl_loss: 0.2215\n",
      "Epoch 10/100\n",
      "54910/54910 [==============================] - 179s 3ms/step - loss: 1.6928 - reconstruction_loss: 1.4718 - kl_loss: 0.2208\n",
      "Epoch 11/100\n",
      "54910/54910 [==============================] - 179s 3ms/step - loss: 1.6935 - reconstruction_loss: 1.4724 - kl_loss: 0.2202\n",
      "Epoch 12/100\n",
      "54910/54910 [==============================] - 180s 3ms/step - loss: 1.6934 - reconstruction_loss: 1.4730 - kl_loss: 0.2196\n",
      "Epoch 13/100\n",
      "54910/54910 [==============================] - 183s 3ms/step - loss: 1.6928 - reconstruction_loss: 1.4729 - kl_loss: 0.2202\n",
      "Epoch 14/100\n",
      "54910/54910 [==============================] - 176s 3ms/step - loss: 1.6927 - reconstruction_loss: 1.4712 - kl_loss: 0.2210\n",
      "Epoch 15/100\n",
      "54910/54910 [==============================] - 179s 3ms/step - loss: 1.6928 - reconstruction_loss: 1.4739 - kl_loss: 0.2192\n",
      "Epoch 16/100\n",
      "54910/54910 [==============================] - 181s 3ms/step - loss: 1.6926 - reconstruction_loss: 1.4728 - kl_loss: 0.2202\n",
      "Epoch 17/100\n",
      "54910/54910 [==============================] - 182s 3ms/step - loss: 1.6917 - reconstruction_loss: 1.4712 - kl_loss: 0.2205\n",
      "Epoch 18/100\n",
      "54910/54910 [==============================] - 181s 3ms/step - loss: 1.6936 - reconstruction_loss: 1.4731 - kl_loss: 0.2203\n",
      "Epoch 19/100\n",
      "54910/54910 [==============================] - 175s 3ms/step - loss: 1.6920 - reconstruction_loss: 1.4719 - kl_loss: 0.2207\n",
      "Epoch 20/100\n",
      "54910/54910 [==============================] - 177s 3ms/step - loss: 1.6931 - reconstruction_loss: 1.4715 - kl_loss: 0.2209\n",
      "Epoch 21/100\n",
      "54910/54910 [==============================] - 180s 3ms/step - loss: 1.6936 - reconstruction_loss: 1.4748 - kl_loss: 0.2185\n",
      "Epoch 22/100\n",
      "54910/54910 [==============================] - 176s 3ms/step - loss: 1.6931 - reconstruction_loss: 1.4718 - kl_loss: 0.2210\n",
      "Epoch 23/100\n",
      "54910/54910 [==============================] - 178s 3ms/step - loss: 1.6931 - reconstruction_loss: 1.4720 - kl_loss: 0.2208\n",
      "Number of epochs run: 23\n",
      "Available keys in history: dict_keys(['loss', 'reconstruction_loss', 'kl_loss'])\n"
     ]
    }
   ],
   "source": [
    "#EarlyStopping callback\n",
    "early_stopping_callback= keras.callbacks.EarlyStopping(monitor='loss',patience=6,baseline=None,restore_best_weights=True)\n",
    "\n",
    "# model_checkpoint_callback\n",
    "checkpoint_filepath = 'variaAEmodel_CICIoT2023_smote.keras'\n",
    "# model_checkpoint_callback = keras.callbacks.ModelCheckpoint(filepath=checkpoint_filepath,monitor='loss',mode='min',save_best_only=True)\n",
    "# best_model = keras.models.load_model(checkpoint_filepath)\n",
    "\n",
    "callbacks = [early_stopping_callback]\n",
    "#train with both callbacks\n",
    "history=vae.fit(X_train,epochs=100,batch_size=32,callbacks=[callbacks],verbose=1)\n",
    "\n",
    "print(\"Number of epochs run:\", len(history.history['loss']))\n",
    "print(\"Available keys in history:\", history.history.keys())\n"
   ]
  },
  {
   "cell_type": "code",
   "execution_count": 43,
   "id": "cdd193bf-cc01-4bff-b0fd-f38bdec42309",
   "metadata": {},
   "outputs": [
    {
     "name": "stdout",
     "output_type": "stream",
     "text": [
      "WARNING:tensorflow:Compiled the loaded model, but the compiled metrics have yet to be built. `model.compile_metrics` will be empty until you train or evaluate the model.\n"
     ]
    }
   ],
   "source": [
    "vae.encoder.save('encoder_CICIoT2023.keras')"
   ]
  },
  {
   "cell_type": "code",
   "execution_count": 44,
   "id": "1896fa5a-3434-468c-9118-beb16aa71ed4",
   "metadata": {},
   "outputs": [
    {
     "name": "stdout",
     "output_type": "stream",
     "text": [
      "WARNING:tensorflow:Compiled the loaded model, but the compiled metrics have yet to be built. `model.compile_metrics` will be empty until you train or evaluate the model.\n"
     ]
    }
   ],
   "source": [
    "vae.decoder.save('decoder_CICIoT2023.keras')"
   ]
  },
  {
   "cell_type": "code",
   "execution_count": 45,
   "id": "1fe6cc0d-86f6-4911-aeaa-f443fe755321",
   "metadata": {},
   "outputs": [
    {
     "data": {
      "text/plain": [
       "<KerasTensor: shape=(None, 16) dtype=float32 (created by layer 'sampling')>"
      ]
     },
     "execution_count": 45,
     "metadata": {},
     "output_type": "execute_result"
    }
   ],
   "source": [
    "vae.encoder.get_layer('sampling').output"
   ]
  },
  {
   "cell_type": "code",
   "execution_count": 46,
   "id": "a6fb5fcd-e6d2-47f5-a026-9d77cca24337",
   "metadata": {},
   "outputs": [
    {
     "name": "stdout",
     "output_type": "stream",
     "text": [
      "13728/13728 [==============================] - 22s 2ms/step\n"
     ]
    }
   ],
   "source": [
    "a,b,encoded=vae.encoder.predict(X_test)"
   ]
  },
  {
   "cell_type": "code",
   "execution_count": 47,
   "id": "bf60372b-1530-4a4a-808b-399008e470db",
   "metadata": {},
   "outputs": [
    {
     "name": "stdout",
     "output_type": "stream",
     "text": [
      "13728/13728 [==============================] - 17s 1ms/step\n"
     ]
    }
   ],
   "source": [
    "decoded=vae.decoder.predict(encoded)"
   ]
  },
  {
   "cell_type": "code",
   "execution_count": 48,
   "id": "0807bbb6-b56d-407b-a5ef-685ebf98f9ea",
   "metadata": {},
   "outputs": [
    {
     "data": {
      "text/plain": [
       "0.031619687366176256"
      ]
     },
     "execution_count": 48,
     "metadata": {},
     "output_type": "execute_result"
    }
   ],
   "source": [
    "from sklearn.metrics import mean_squared_error\n",
    "mean_squared_error(X_test, decoded)"
   ]
  },
  {
   "cell_type": "code",
   "execution_count": 49,
   "id": "66632e37-16bb-4fb3-872b-8376f58c3ef0",
   "metadata": {},
   "outputs": [
    {
     "name": "stdout",
     "output_type": "stream",
     "text": [
      "Model: \"encoder\"\n",
      "__________________________________________________________________________________________________\n",
      " Layer (type)                   Output Shape         Param #     Connected to                     \n",
      "==================================================================================================\n",
      " encoder_input (InputLayer)     [(None, 46)]         0           []                               \n",
      "                                                                                                  \n",
      " encoder1 (Dense)               (None, 128)          6016        ['encoder_input[0][0]']          \n",
      "                                                                                                  \n",
      " enocder2 (Dense)               (None, 64)           8256        ['encoder1[0][0]']               \n",
      "                                                                                                  \n",
      " encoder_latent_vae (Dense)     (None, 32)           2080        ['enocder2[0][0]']               \n",
      "                                                                                                  \n",
      " mean (Dense)                   (None, 16)           528         ['encoder_latent_vae[0][0]']     \n",
      "                                                                                                  \n",
      " log_var (Dense)                (None, 16)           528         ['encoder_latent_vae[0][0]']     \n",
      "                                                                                                  \n",
      " sampling (Sampling)            (None, 16)           0           ['mean[0][0]',                   \n",
      "                                                                  'log_var[0][0]']                \n",
      "                                                                                                  \n",
      "==================================================================================================\n",
      "Total params: 17,408\n",
      "Trainable params: 0\n",
      "Non-trainable params: 17,408\n",
      "__________________________________________________________________________________________________\n"
     ]
    }
   ],
   "source": [
    "for layer in vae.encoder.layers:\n",
    "    layer.trainable = False\n",
    "vae.encoder.summary()"
   ]
  },
  {
   "cell_type": "code",
   "execution_count": 50,
   "id": "5096b3f4-034f-4870-ae85-e610f0151d3e",
   "metadata": {},
   "outputs": [
    {
     "data": {
      "text/plain": [
       "<KerasTensor: shape=(None, 16) dtype=float32 (created by layer 'sampling')>"
      ]
     },
     "execution_count": 50,
     "metadata": {},
     "output_type": "execute_result"
    }
   ],
   "source": [
    "vae.encoder.get_layer('sampling').output"
   ]
  },
  {
   "cell_type": "markdown",
   "id": "5b6cde27-def0-4f4d-be9b-f715ccad8e18",
   "metadata": {},
   "source": [
    "# Combined latent_space and creating a decoder"
   ]
  },
  {
   "cell_type": "code",
   "execution_count": 51,
   "id": "140df2c8-e714-4f4a-b97d-48b66e197d80",
   "metadata": {},
   "outputs": [],
   "source": [
    "\n",
    "VAE_input = vae.encoder.input\n",
    "VAE_output = vae.encoder.get_layer('sampling').output\n",
    "\n",
    "VaAE_input = vanilla.input\n",
    "VaAE_output = vanilla.get_layer('latent_vanilla').output\n",
    "\n",
    "combined = Concatenate(name='combined')([VAE_output, VaAE_output])\n",
    "\n",
    "l = Dense(128, activation='relu', name='combined1')(combined)\n",
    "l = Dense(64, activation='relu', name='combined2')(l)\n",
    "l = Dense(32, activation='relu', name='combined3')(l)\n",
    "output_combined= Dense(1, activation='sigmoid', name='combined_output')(l)\n",
    "\n",
    "\n",
    "combined_model = tf.keras.Model([VAE_input, VaAE_input], output_combined)\n"
   ]
  },
  {
   "cell_type": "code",
   "execution_count": 52,
   "id": "9a8f144f-2321-4cbe-a5c8-7951314b2b06",
   "metadata": {},
   "outputs": [
    {
     "name": "stdout",
     "output_type": "stream",
     "text": [
      "Model: \"model_1\"\n",
      "__________________________________________________________________________________________________\n",
      " Layer (type)                   Output Shape         Param #     Connected to                     \n",
      "==================================================================================================\n",
      " encoder_input (InputLayer)     [(None, 46)]         0           []                               \n",
      "                                                                                                  \n",
      " encoder1 (Dense)               (None, 128)          6016        ['encoder_input[0][0]']          \n",
      "                                                                                                  \n",
      " enocder2 (Dense)               (None, 64)           8256        ['encoder1[0][0]']               \n",
      "                                                                                                  \n",
      " input_vanilla (InputLayer)     [(None, 46)]         0           []                               \n",
      "                                                                                                  \n",
      " encoder_latent_vae (Dense)     (None, 32)           2080        ['enocder2[0][0]']               \n",
      "                                                                                                  \n",
      " encode1_vanilla (Dense)        (None, 128)          6016        ['input_vanilla[0][0]']          \n",
      "                                                                                                  \n",
      " mean (Dense)                   (None, 16)           528         ['encoder_latent_vae[0][0]']     \n",
      "                                                                                                  \n",
      " log_var (Dense)                (None, 16)           528         ['encoder_latent_vae[0][0]']     \n",
      "                                                                                                  \n",
      " encode2_vanilla (Dense)        (None, 64)           8256        ['encode1_vanilla[0][0]']        \n",
      "                                                                                                  \n",
      " sampling (Sampling)            (None, 16)           0           ['mean[0][0]',                   \n",
      "                                                                  'log_var[0][0]']                \n",
      "                                                                                                  \n",
      " latent_vanilla (Dense)         (None, 32)           2080        ['encode2_vanilla[0][0]']        \n",
      "                                                                                                  \n",
      " combined (Concatenate)         (None, 48)           0           ['sampling[0][0]',               \n",
      "                                                                  'latent_vanilla[0][0]']         \n",
      "                                                                                                  \n",
      " combined1 (Dense)              (None, 128)          6272        ['combined[0][0]']               \n",
      "                                                                                                  \n",
      " combined2 (Dense)              (None, 64)           8256        ['combined1[0][0]']              \n",
      "                                                                                                  \n",
      " combined3 (Dense)              (None, 32)           2080        ['combined2[0][0]']              \n",
      "                                                                                                  \n",
      " combined_output (Dense)        (None, 1)            33          ['combined3[0][0]']              \n",
      "                                                                                                  \n",
      "==================================================================================================\n",
      "Total params: 50,401\n",
      "Trainable params: 16,641\n",
      "Non-trainable params: 33,760\n",
      "__________________________________________________________________________________________________\n"
     ]
    }
   ],
   "source": [
    "combined_model.summary()"
   ]
  },
  {
   "cell_type": "code",
   "execution_count": 53,
   "id": "0b63df09-1db7-4d5b-9ad7-c26af5a5d93e",
   "metadata": {},
   "outputs": [],
   "source": [
    "combined_model.compile(optimizer='adam', loss='binary_crossentropy',metrics=['accuracy'])"
   ]
  },
  {
   "cell_type": "code",
   "execution_count": 54,
   "id": "fd5b214d-7545-4d7f-ac71-7b33c7d60c10",
   "metadata": {
    "scrolled": true
   },
   "outputs": [
    {
     "name": "stdout",
     "output_type": "stream",
     "text": [
      "Epoch 1/100\n",
      "43928/43928 [==============================] - 172s 4ms/step - loss: 0.0351 - accuracy: 0.9923 - val_loss: 0.0323 - val_accuracy: 0.9930\n",
      "Epoch 2/100\n",
      "43928/43928 [==============================] - 170s 4ms/step - loss: 0.0306 - accuracy: 0.9934 - val_loss: 0.0296 - val_accuracy: 0.9935\n",
      "Epoch 3/100\n",
      "43928/43928 [==============================] - 171s 4ms/step - loss: 0.0298 - accuracy: 0.9935 - val_loss: 0.0308 - val_accuracy: 0.9934\n",
      "Epoch 4/100\n",
      "43928/43928 [==============================] - 174s 4ms/step - loss: 0.0295 - accuracy: 0.9936 - val_loss: 0.0291 - val_accuracy: 0.9936\n",
      "Epoch 5/100\n",
      "43928/43928 [==============================] - 170s 4ms/step - loss: 0.0292 - accuracy: 0.9936 - val_loss: 0.0287 - val_accuracy: 0.9937\n",
      "Epoch 6/100\n",
      "43928/43928 [==============================] - 174s 4ms/step - loss: 0.0290 - accuracy: 0.9936 - val_loss: 0.0287 - val_accuracy: 0.9937\n",
      "Epoch 7/100\n",
      "43928/43928 [==============================] - 173s 4ms/step - loss: 0.0288 - accuracy: 0.9937 - val_loss: 0.0289 - val_accuracy: 0.9937\n",
      "Epoch 8/100\n",
      "43928/43928 [==============================] - 163s 4ms/step - loss: 0.0288 - accuracy: 0.9937 - val_loss: 0.0288 - val_accuracy: 0.9937\n",
      "Epoch 9/100\n",
      "43928/43928 [==============================] - 172s 4ms/step - loss: 0.0286 - accuracy: 0.9937 - val_loss: 0.0286 - val_accuracy: 0.9937\n",
      "Epoch 10/100\n",
      "43928/43928 [==============================] - 179s 4ms/step - loss: 0.0285 - accuracy: 0.9938 - val_loss: 0.0290 - val_accuracy: 0.9935\n",
      "Epoch 11/100\n",
      "43928/43928 [==============================] - 168s 4ms/step - loss: 0.0286 - accuracy: 0.9938 - val_loss: 0.0289 - val_accuracy: 0.9938\n",
      "Epoch 12/100\n",
      "43928/43928 [==============================] - 167s 4ms/step - loss: 0.0285 - accuracy: 0.9938 - val_loss: 0.0294 - val_accuracy: 0.9937\n",
      "Epoch 13/100\n",
      "43928/43928 [==============================] - 166s 4ms/step - loss: 0.0284 - accuracy: 0.9938 - val_loss: 0.0285 - val_accuracy: 0.9938\n",
      "Epoch 14/100\n",
      "43928/43928 [==============================] - 166s 4ms/step - loss: 0.0284 - accuracy: 0.9938 - val_loss: 0.0289 - val_accuracy: 0.9936\n",
      "Epoch 15/100\n",
      "43928/43928 [==============================] - 159s 4ms/step - loss: 0.0283 - accuracy: 0.9938 - val_loss: 0.0287 - val_accuracy: 0.9938\n",
      "Epoch 16/100\n",
      "43928/43928 [==============================] - 171s 4ms/step - loss: 0.0285 - accuracy: 0.9938 - val_loss: 0.0285 - val_accuracy: 0.9938\n",
      "Epoch 17/100\n",
      "43928/43928 [==============================] - 169s 4ms/step - loss: 0.0283 - accuracy: 0.9939 - val_loss: 0.0290 - val_accuracy: 0.9938\n",
      "Epoch 18/100\n",
      "43928/43928 [==============================] - 168s 4ms/step - loss: 0.0284 - accuracy: 0.9939 - val_loss: 0.0281 - val_accuracy: 0.9939\n",
      "Epoch 19/100\n",
      "43928/43928 [==============================] - 169s 4ms/step - loss: 0.0284 - accuracy: 0.9938 - val_loss: 0.0286 - val_accuracy: 0.9937\n",
      "Epoch 20/100\n",
      "43928/43928 [==============================] - 174s 4ms/step - loss: 0.0284 - accuracy: 0.9939 - val_loss: 0.0281 - val_accuracy: 0.9939\n",
      "Epoch 21/100\n",
      "43928/43928 [==============================] - 172s 4ms/step - loss: 0.0283 - accuracy: 0.9939 - val_loss: 0.0289 - val_accuracy: 0.9938\n",
      "Epoch 22/100\n",
      "43928/43928 [==============================] - 167s 4ms/step - loss: 0.0283 - accuracy: 0.9939 - val_loss: 0.0278 - val_accuracy: 0.9939\n",
      "Epoch 23/100\n",
      "43928/43928 [==============================] - 168s 4ms/step - loss: 0.0282 - accuracy: 0.9939 - val_loss: 0.0292 - val_accuracy: 0.9938\n",
      "Epoch 24/100\n",
      "43928/43928 [==============================] - 171s 4ms/step - loss: 0.0286 - accuracy: 0.9939 - val_loss: 0.0281 - val_accuracy: 0.9939\n",
      "Epoch 25/100\n",
      "43928/43928 [==============================] - 169s 4ms/step - loss: 0.0282 - accuracy: 0.9939 - val_loss: 0.0283 - val_accuracy: 0.9938\n",
      "Epoch 26/100\n",
      "43928/43928 [==============================] - 173s 4ms/step - loss: 0.0283 - accuracy: 0.9939 - val_loss: 0.0283 - val_accuracy: 0.9939\n",
      "Epoch 27/100\n",
      "43928/43928 [==============================] - 169s 4ms/step - loss: 0.0283 - accuracy: 0.9939 - val_loss: 0.0287 - val_accuracy: 0.9938\n",
      "Epoch 28/100\n",
      "43928/43928 [==============================] - 173s 4ms/step - loss: 0.0283 - accuracy: 0.9939 - val_loss: 0.0285 - val_accuracy: 0.9936\n",
      "Epoch 29/100\n",
      "43928/43928 [==============================] - 173s 4ms/step - loss: 0.0282 - accuracy: 0.9939 - val_loss: 0.0302 - val_accuracy: 0.9936\n",
      "Epoch 30/100\n",
      "43928/43928 [==============================] - 170s 4ms/step - loss: 0.0283 - accuracy: 0.9939 - val_loss: 0.0283 - val_accuracy: 0.9938\n",
      "Number of epochs run: 30\n"
     ]
    }
   ],
   "source": [
    "#EarlyStopping callback\n",
    "early_stopping_callback= keras.callbacks.EarlyStopping(monitor='val_loss',patience=8,baseline=None,restore_best_weights=True)\n",
    "\n",
    "# model_checkpoint_callback\n",
    "checkpoint_filepath = 'combinedmodel_CICIoT2023_smote.keras'\n",
    "model_checkpoint_callback = keras.callbacks.ModelCheckpoint(filepath=checkpoint_filepath,monitor='val_loss',mode='min',save_best_only=True)\n",
    "# best_model = keras.models.load_model(checkpoint_filepath)\n",
    "\n",
    "callbacks = [early_stopping_callback, model_checkpoint_callback]\n",
    "#train with both callbacks\n",
    "history=combined_model.fit([X_train,X_train],y_train,epochs=100,batch_size=32,validation_split=0.2,callbacks=[callbacks],verbose=1)\n",
    "\n",
    "print(\"Number of epochs run:\", len(history.history['val_loss']))"
   ]
  },
  {
   "cell_type": "code",
   "execution_count": null,
   "id": "073dd574-24f4-45b0-8cdb-8a55f96bc3c6",
   "metadata": {},
   "outputs": [],
   "source": [
    "#combined_model.fit([X_train,X_train],y_train,validation_split=0.2,epochs=2)"
   ]
  },
  {
   "cell_type": "code",
   "execution_count": 55,
   "id": "2bf04ac2-cd40-4a45-9f6d-db6ebb33c037",
   "metadata": {},
   "outputs": [
    {
     "name": "stdout",
     "output_type": "stream",
     "text": [
      "13728/13728 [==============================] - 30s 2ms/step - loss: 0.0295 - accuracy: 0.9938\n"
     ]
    },
    {
     "data": {
      "text/plain": [
       "[0.029468828812241554, 0.9938444495201111]"
      ]
     },
     "execution_count": 55,
     "metadata": {},
     "output_type": "execute_result"
    }
   ],
   "source": [
    "combined_model.evaluate([X_test,X_test],y_test)"
   ]
  },
  {
   "cell_type": "code",
   "execution_count": 56,
   "id": "5ae928b2-9882-4f4b-b67f-a906d30b0773",
   "metadata": {},
   "outputs": [],
   "source": [
    "from sklearn.metrics import confusion_matrix, classification_report,ConfusionMatrixDisplay\n",
    "import seaborn as sns\n",
    "import matplotlib.pyplot as plt"
   ]
  },
  {
   "cell_type": "code",
   "execution_count": 57,
   "id": "9a92e1b2-5479-437d-ac31-4ec25f6272d6",
   "metadata": {},
   "outputs": [
    {
     "name": "stdout",
     "output_type": "stream",
     "text": [
      "13728/13728 [==============================] - 25s 2ms/step\n"
     ]
    }
   ],
   "source": [
    "y_pred_prob = combined_model.predict([X_test, X_test])\n",
    "y_pred = (y_pred_prob > 0.5).astype(int)"
   ]
  },
  {
   "cell_type": "code",
   "execution_count": 58,
   "id": "2a7656cc-a39e-4546-8c94-cdda1bf90f74",
   "metadata": {},
   "outputs": [],
   "source": [
    "cm = confusion_matrix(y_test, y_pred)\n"
   ]
  },
  {
   "cell_type": "code",
   "execution_count": 59,
   "id": "42afa7bd-0982-41fb-bd9f-1ef3f006e8f4",
   "metadata": {},
   "outputs": [
    {
     "data": {
      "image/png": "[encoded data removed]",
      "text/plain": [
       "<Figure size 640x480 with 2 Axes>"
      ]
     },
     "metadata": {},
     "output_type": "display_data"
    }
   ],
   "source": [
    "cm = ConfusionMatrixDisplay(cm)\n",
    "cm.plot()\n",
    "plt.title('Confusion Matrix',fontsize=9)\n",
    "plt.show()"
   ]
  },
  {
   "cell_type": "code",
   "execution_count": 60,
   "id": "238aea55-1e61-405f-a0bc-fc67b53c712c",
   "metadata": {},
   "outputs": [
    {
     "name": "stdout",
     "output_type": "stream",
     "text": [
      "              precision    recall  f1-score   support\n",
      "\n",
      "           0    0.98812   0.99970   0.99388    219776\n",
      "           1    0.99970   0.98797   0.99380    219502\n",
      "\n",
      "    accuracy                        0.99384    439278\n",
      "   macro avg    0.99391   0.99383   0.99384    439278\n",
      "weighted avg    0.99391   0.99384   0.99384    439278\n",
      "\n"
     ]
    }
   ],
   "source": [
    "print(classification_report(y_test, y_pred,digits=5))"
   ]
  },
  {
   "cell_type": "code",
   "execution_count": 61,
   "id": "ffa2d0ed-bf49-4a4d-866f-5c27abc094b3",
   "metadata": {},
   "outputs": [
    {
     "data": {
      "image/png": "[encoded data removed]",
      "text/plain": [
       "<Figure size 640x480 with 1 Axes>"
      ]
     },
     "metadata": {},
     "output_type": "display_data"
    }
   ],
   "source": [
    "from sklearn.metrics import roc_curve, auc,matthews_corrcoef\n",
    "fpr, tpr, thresholds = roc_curve(y_test, y_pred_prob)\n",
    "roc_auc = auc(fpr, tpr)\n",
    "\n",
    "# Plot ROC curve\n",
    "plt.figure()\n",
    "plt.plot(fpr, tpr, color='darkorange', lw=2, label='ROC curve (area = %0.2f)' % roc_auc)\n",
    "plt.plot([0, 1], [0, 1], color='navy', lw=2, linestyle='--')\n",
    "plt.xlim([0.0, 1.0])\n",
    "plt.ylim([0.0, 1.05])\n",
    "plt.xlabel('False Positive Rate')\n",
    "plt.ylabel('True Positive Rate')\n",
    "plt.title('Receiver Operating Characteristic')\n",
    "plt.legend(loc='lower right')\n",
    "plt.show()"
   ]
  },
  {
   "cell_type": "code",
   "execution_count": 62,
   "id": "9752198b-d156-4d38-bece-f97ef40535e5",
   "metadata": {},
   "outputs": [],
   "source": [
    "mcc = matthews_corrcoef(y_test, y_pred)\n"
   ]
  },
  {
   "cell_type": "code",
   "execution_count": 63,
   "id": "daf661c5-a028-4924-8008-636526baf2ba",
   "metadata": {},
   "outputs": [
    {
     "name": "stdout",
     "output_type": "stream",
     "text": [
      "Matthews Correlation Coefficient: 0.9877430203766229\n"
     ]
    }
   ],
   "source": [
    "\n",
    "print(\"Matthews Correlation Coefficient:\", mcc)\n"
   ]
  },
  {
   "cell_type": "code",
   "execution_count": 64,
   "id": "2bb6daa1-fe62-49c7-b0f1-79051fbbcdb1",
   "metadata": {},
   "outputs": [
    {
     "data": {
      "image/png": "[encoded data removed]",
      "text/plain": [
       "<Figure size 800x400 with 1 Axes>"
      ]
     },
     "metadata": {},
     "output_type": "display_data"
    }
   ],
   "source": [
    "# Plot training & validation accuracy values\n",
    "plt.figure(figsize= (8, 4))\n",
    "plt.plot(history.history['accuracy'])\n",
    "plt.plot(history.history['val_accuracy'])\n",
    "plt.title('Model accuracy')\n",
    "plt.ylabel('Accuracy')\n",
    "plt.xlabel('Epoch')\n",
    "plt.legend(['Train', 'Test'], loc='upper left')\n",
    "plt.show()"
   ]
  },
  {
   "cell_type": "code",
   "execution_count": 65,
   "id": "eae1ce95-e5c1-47ec-90e9-40f6d68f2367",
   "metadata": {},
   "outputs": [
    {
     "data": {
      "image/png": "[encoded data removed]",
      "text/plain": [
       "<Figure size 800x400 with 1 Axes>"
      ]
     },
     "metadata": {},
     "output_type": "display_data"
    }
   ],
   "source": [
    "# Plot training & validation loss values\n",
    "plt.figure(figsize= (8, 4))\n",
    "plt.plot(history.history['loss'])\n",
    "plt.plot(history.history['val_loss'])\n",
    "plt.title('Model loss')\n",
    "plt.ylabel('Loss')\n",
    "plt.xlabel('Epoch')\n",
    "plt.legend(['Train', 'Test'], loc='upper left')\n",
    "plt.show()"
   ]
  },
  {
   "cell_type": "code",
   "execution_count": 66,
   "id": "78682fc3-4a3c-4f4d-8feb-e39872989251",
   "metadata": {},
   "outputs": [
    {
     "data": {
      "text/plain": [
       "<matplotlib.legend.Legend at 0x21d1a2c7730>"
      ]
     },
     "execution_count": 66,
     "metadata": {},
     "output_type": "execute_result"
    },
    {
     "data": {
      "image/png": "[encoded data removed]",
      "text/plain": [
       "<Figure size 1000x400 with 1 Axes>"
      ]
     },
     "metadata": {},
     "output_type": "display_data"
    }
   ],
   "source": [
    "tr_loss = history.history['loss']\n",
    "val_loss = history.history['val_loss']\n",
    "index_loss = np.argmin(val_loss)\n",
    "val_lowest = val_loss[index_loss]\n",
    "\n",
    "Epochs = [i+1 for i in range(len(tr_loss))]\n",
    "loss_label = f'best epoch= {str(index_loss + 1)}'\n",
    "\n",
    "# Plot training history\n",
    "plt.figure(figsize= (10, 4))\n",
    "plt.style.use('fivethirtyeight')\n",
    "\n",
    "plt.plot(Epochs, tr_loss, 'r', label= 'Training loss')\n",
    "plt.plot(Epochs, val_loss, 'g', label= 'Validation loss')\n",
    "plt.scatter(index_loss + 1, val_lowest, s= 100, c= 'blue', label= loss_label)\n",
    "plt.title('Training and Validation Loss')\n",
    "plt.xlabel('Epochs')\n",
    "plt.ylabel('Loss')\n",
    "plt.legend()"
   ]
  },
  {
   "cell_type": "code",
   "execution_count": null,
   "id": "e198f462-a2f3-4bc2-a356-68a94a8e84fb",
   "metadata": {},
   "outputs": [],
   "source": []
  }
 ],
 "metadata": {
  "kernelspec": {
   "display_name": "Python 3 (ipykernel)",
   "language": "python",
   "name": "python3"
  },
  "language_info": {
   "codemirror_mode": {
    "name": "ipython",
    "version": 3
   },
   "file_extension": ".py",
   "mimetype": "text/x-python",
   "name": "python",
   "nbconvert_exporter": "python",
   "pygments_lexer": "ipython3",
   "version": "3.11.8"
  }
 },
 "nbformat": 4,
 "nbformat_minor": 5
}
